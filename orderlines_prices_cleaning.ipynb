{
 "cells": [
  {
   "cell_type": "code",
   "execution_count": 1,
   "id": "88ccd72b-5571-4b37-ae2a-0b92088855f3",
   "metadata": {
    "tags": []
   },
   "outputs": [],
   "source": [
    "import pandas as pd\n",
    "pd.options.display.max_rows = 100\n",
    "orderlines = pd.read_csv('orderlines.csv')"
   ]
  },
  {
   "cell_type": "code",
   "execution_count": 2,
   "id": "0a7f8633-9762-4238-8f7a-962baef726e3",
   "metadata": {},
   "outputs": [],
   "source": [
    "#Removed first dot in 36169 rows with prices with two dots\n",
    "#Removed two price outliers NEA0009 and APP1465\n",
    "#Should we delete the SKUs we have deleted in the table products because of weired prices?\n",
    "#Check for number of orders"
   ]
  },
  {
   "cell_type": "code",
   "execution_count": 3,
   "id": "4a6296a3-e7b4-44ac-b002-9f8d05b36cf4",
   "metadata": {
    "tags": []
   },
   "outputs": [
    {
     "data": {
      "text/html": [
       "<div>\n",
       "<style scoped>\n",
       "    .dataframe tbody tr th:only-of-type {\n",
       "        vertical-align: middle;\n",
       "    }\n",
       "\n",
       "    .dataframe tbody tr th {\n",
       "        vertical-align: top;\n",
       "    }\n",
       "\n",
       "    .dataframe thead th {\n",
       "        text-align: right;\n",
       "    }\n",
       "</style>\n",
       "<table border=\"1\" class=\"dataframe\">\n",
       "  <thead>\n",
       "    <tr style=\"text-align: right;\">\n",
       "      <th></th>\n",
       "      <th>id</th>\n",
       "      <th>id_order</th>\n",
       "      <th>product_id</th>\n",
       "      <th>product_quantity</th>\n",
       "      <th>sku</th>\n",
       "      <th>unit_price</th>\n",
       "      <th>date</th>\n",
       "    </tr>\n",
       "  </thead>\n",
       "  <tbody>\n",
       "    <tr>\n",
       "      <th>0</th>\n",
       "      <td>1119109</td>\n",
       "      <td>299539</td>\n",
       "      <td>0</td>\n",
       "      <td>1</td>\n",
       "      <td>OTT0133</td>\n",
       "      <td>18.99</td>\n",
       "      <td>2017-01-01 00:07:19</td>\n",
       "    </tr>\n",
       "    <tr>\n",
       "      <th>1</th>\n",
       "      <td>1119110</td>\n",
       "      <td>299540</td>\n",
       "      <td>0</td>\n",
       "      <td>1</td>\n",
       "      <td>LGE0043</td>\n",
       "      <td>399.00</td>\n",
       "      <td>2017-01-01 00:19:45</td>\n",
       "    </tr>\n",
       "    <tr>\n",
       "      <th>2</th>\n",
       "      <td>1119111</td>\n",
       "      <td>299541</td>\n",
       "      <td>0</td>\n",
       "      <td>1</td>\n",
       "      <td>PAR0071</td>\n",
       "      <td>474.05</td>\n",
       "      <td>2017-01-01 00:20:57</td>\n",
       "    </tr>\n",
       "    <tr>\n",
       "      <th>3</th>\n",
       "      <td>1119112</td>\n",
       "      <td>299542</td>\n",
       "      <td>0</td>\n",
       "      <td>1</td>\n",
       "      <td>WDT0315</td>\n",
       "      <td>68.39</td>\n",
       "      <td>2017-01-01 00:51:40</td>\n",
       "    </tr>\n",
       "    <tr>\n",
       "      <th>4</th>\n",
       "      <td>1119113</td>\n",
       "      <td>299543</td>\n",
       "      <td>0</td>\n",
       "      <td>1</td>\n",
       "      <td>JBL0104</td>\n",
       "      <td>23.74</td>\n",
       "      <td>2017-01-01 01:06:38</td>\n",
       "    </tr>\n",
       "    <tr>\n",
       "      <th>...</th>\n",
       "      <td>...</td>\n",
       "      <td>...</td>\n",
       "      <td>...</td>\n",
       "      <td>...</td>\n",
       "      <td>...</td>\n",
       "      <td>...</td>\n",
       "      <td>...</td>\n",
       "    </tr>\n",
       "    <tr>\n",
       "      <th>293978</th>\n",
       "      <td>1650199</td>\n",
       "      <td>527398</td>\n",
       "      <td>0</td>\n",
       "      <td>1</td>\n",
       "      <td>JBL0122</td>\n",
       "      <td>42.99</td>\n",
       "      <td>2018-03-14 13:57:25</td>\n",
       "    </tr>\n",
       "    <tr>\n",
       "      <th>293979</th>\n",
       "      <td>1650200</td>\n",
       "      <td>527399</td>\n",
       "      <td>0</td>\n",
       "      <td>1</td>\n",
       "      <td>PAC0653</td>\n",
       "      <td>141.58</td>\n",
       "      <td>2018-03-14 13:57:34</td>\n",
       "    </tr>\n",
       "    <tr>\n",
       "      <th>293980</th>\n",
       "      <td>1650201</td>\n",
       "      <td>527400</td>\n",
       "      <td>0</td>\n",
       "      <td>2</td>\n",
       "      <td>APP0698</td>\n",
       "      <td>9.99</td>\n",
       "      <td>2018-03-14 13:57:41</td>\n",
       "    </tr>\n",
       "    <tr>\n",
       "      <th>293981</th>\n",
       "      <td>1650202</td>\n",
       "      <td>527388</td>\n",
       "      <td>0</td>\n",
       "      <td>1</td>\n",
       "      <td>BEZ0204</td>\n",
       "      <td>19.99</td>\n",
       "      <td>2018-03-14 13:58:01</td>\n",
       "    </tr>\n",
       "    <tr>\n",
       "      <th>293982</th>\n",
       "      <td>1650203</td>\n",
       "      <td>527401</td>\n",
       "      <td>0</td>\n",
       "      <td>1</td>\n",
       "      <td>APP0927</td>\n",
       "      <td>13.99</td>\n",
       "      <td>2018-03-14 13:58:36</td>\n",
       "    </tr>\n",
       "  </tbody>\n",
       "</table>\n",
       "<p>293983 rows × 7 columns</p>\n",
       "</div>"
      ],
      "text/plain": [
       "             id  id_order  product_id  product_quantity      sku unit_price  \\\n",
       "0       1119109    299539           0                 1  OTT0133      18.99   \n",
       "1       1119110    299540           0                 1  LGE0043     399.00   \n",
       "2       1119111    299541           0                 1  PAR0071     474.05   \n",
       "3       1119112    299542           0                 1  WDT0315      68.39   \n",
       "4       1119113    299543           0                 1  JBL0104      23.74   \n",
       "...         ...       ...         ...               ...      ...        ...   \n",
       "293978  1650199    527398           0                 1  JBL0122      42.99   \n",
       "293979  1650200    527399           0                 1  PAC0653     141.58   \n",
       "293980  1650201    527400           0                 2  APP0698       9.99   \n",
       "293981  1650202    527388           0                 1  BEZ0204      19.99   \n",
       "293982  1650203    527401           0                 1  APP0927      13.99   \n",
       "\n",
       "                       date  \n",
       "0       2017-01-01 00:07:19  \n",
       "1       2017-01-01 00:19:45  \n",
       "2       2017-01-01 00:20:57  \n",
       "3       2017-01-01 00:51:40  \n",
       "4       2017-01-01 01:06:38  \n",
       "...                     ...  \n",
       "293978  2018-03-14 13:57:25  \n",
       "293979  2018-03-14 13:57:34  \n",
       "293980  2018-03-14 13:57:41  \n",
       "293981  2018-03-14 13:58:01  \n",
       "293982  2018-03-14 13:58:36  \n",
       "\n",
       "[293983 rows x 7 columns]"
      ]
     },
     "execution_count": 3,
     "metadata": {},
     "output_type": "execute_result"
    }
   ],
   "source": [
    "orderlines"
   ]
  },
  {
   "cell_type": "code",
   "execution_count": 4,
   "id": "7891d924-99fa-48af-8993-7005d840789f",
   "metadata": {
    "tags": []
   },
   "outputs": [],
   "source": [
    "orderlines_df = orderlines.copy()"
   ]
  },
  {
   "cell_type": "code",
   "execution_count": 5,
   "id": "eae4c341-4505-4180-98ef-61ba3e6bca36",
   "metadata": {
    "tags": []
   },
   "outputs": [],
   "source": [
    "#change object date into date format\n",
    "orderlines_df[\"date\"] = pd.to_datetime(orderlines_df[\"date\"])"
   ]
  },
  {
   "cell_type": "code",
   "execution_count": 6,
   "id": "ae8e2fec-dada-43b3-96b7-96ccfdff73a1",
   "metadata": {
    "tags": []
   },
   "outputs": [
    {
     "data": {
      "text/html": [
       "<div>\n",
       "<style scoped>\n",
       "    .dataframe tbody tr th:only-of-type {\n",
       "        vertical-align: middle;\n",
       "    }\n",
       "\n",
       "    .dataframe tbody tr th {\n",
       "        vertical-align: top;\n",
       "    }\n",
       "\n",
       "    .dataframe thead th {\n",
       "        text-align: right;\n",
       "    }\n",
       "</style>\n",
       "<table border=\"1\" class=\"dataframe\">\n",
       "  <thead>\n",
       "    <tr style=\"text-align: right;\">\n",
       "      <th></th>\n",
       "      <th>id</th>\n",
       "      <th>id_order</th>\n",
       "      <th>product_id</th>\n",
       "      <th>product_quantity</th>\n",
       "      <th>sku</th>\n",
       "      <th>unit_price</th>\n",
       "      <th>date</th>\n",
       "    </tr>\n",
       "  </thead>\n",
       "  <tbody>\n",
       "  </tbody>\n",
       "</table>\n",
       "</div>"
      ],
      "text/plain": [
       "Empty DataFrame\n",
       "Columns: [id, id_order, product_id, product_quantity, sku, unit_price, date]\n",
       "Index: []"
      ]
     },
     "execution_count": 6,
     "metadata": {},
     "output_type": "execute_result"
    }
   ],
   "source": [
    "#How many rows have 3 numbers after the decimal point?\n",
    "orderlines_df.loc[orderlines_df.unit_price.str.contains(\"\\d+\\.\\d+\\.\\d{3,}\")]"
   ]
  },
  {
   "cell_type": "code",
   "execution_count": 7,
   "id": "a3a39c99-f921-4f9b-b8cc-86be34b4182b",
   "metadata": {
    "tags": []
   },
   "outputs": [
    {
     "data": {
      "text/plain": [
       "unit_price\n",
       "True    293983\n",
       "Name: count, dtype: int64"
      ]
     },
     "execution_count": 7,
     "metadata": {},
     "output_type": "execute_result"
    }
   ],
   "source": [
    "#Counts how many prices contain one dot\n",
    "orderlines_df.unit_price.str.contains(\"\\d+\\.\\d+\").value_counts()"
   ]
  },
  {
   "cell_type": "code",
   "execution_count": 8,
   "id": "b5b62699-94f4-4441-9d9d-d30bdfb7ef9d",
   "metadata": {
    "tags": []
   },
   "outputs": [
    {
     "data": {
      "text/plain": [
       "unit_price\n",
       "False    257814\n",
       "True      36169\n",
       "Name: count, dtype: int64"
      ]
     },
     "execution_count": 8,
     "metadata": {},
     "output_type": "execute_result"
    }
   ],
   "source": [
    "#Counts how many prices contain two dots\n",
    "orderlines_df.unit_price.str.contains(\"\\d+\\.\\d+\\.\\d+\").value_counts()"
   ]
  },
  {
   "cell_type": "code",
   "execution_count": 9,
   "id": "c58ceee5-bc15-4ecc-bdd4-15ee42a6729b",
   "metadata": {
    "tags": []
   },
   "outputs": [
    {
     "data": {
      "text/html": [
       "<div>\n",
       "<style scoped>\n",
       "    .dataframe tbody tr th:only-of-type {\n",
       "        vertical-align: middle;\n",
       "    }\n",
       "\n",
       "    .dataframe tbody tr th {\n",
       "        vertical-align: top;\n",
       "    }\n",
       "\n",
       "    .dataframe thead th {\n",
       "        text-align: right;\n",
       "    }\n",
       "</style>\n",
       "<table border=\"1\" class=\"dataframe\">\n",
       "  <thead>\n",
       "    <tr style=\"text-align: right;\">\n",
       "      <th></th>\n",
       "      <th>id</th>\n",
       "      <th>id_order</th>\n",
       "      <th>product_id</th>\n",
       "      <th>product_quantity</th>\n",
       "      <th>sku</th>\n",
       "      <th>unit_price</th>\n",
       "      <th>date</th>\n",
       "    </tr>\n",
       "  </thead>\n",
       "  <tbody>\n",
       "    <tr>\n",
       "      <th>6</th>\n",
       "      <td>1119115</td>\n",
       "      <td>299544</td>\n",
       "      <td>0</td>\n",
       "      <td>1</td>\n",
       "      <td>APP1582</td>\n",
       "      <td>1.137.99</td>\n",
       "      <td>2017-01-01 01:17:21</td>\n",
       "    </tr>\n",
       "    <tr>\n",
       "      <th>11</th>\n",
       "      <td>1119126</td>\n",
       "      <td>299549</td>\n",
       "      <td>0</td>\n",
       "      <td>1</td>\n",
       "      <td>PAC0929</td>\n",
       "      <td>2.565.99</td>\n",
       "      <td>2017-01-01 02:07:42</td>\n",
       "    </tr>\n",
       "    <tr>\n",
       "      <th>15</th>\n",
       "      <td>1119131</td>\n",
       "      <td>299553</td>\n",
       "      <td>0</td>\n",
       "      <td>1</td>\n",
       "      <td>APP1854</td>\n",
       "      <td>3.278.99</td>\n",
       "      <td>2017-01-01 02:14:47</td>\n",
       "    </tr>\n",
       "    <tr>\n",
       "      <th>43</th>\n",
       "      <td>1119195</td>\n",
       "      <td>299582</td>\n",
       "      <td>0</td>\n",
       "      <td>1</td>\n",
       "      <td>PAC0961</td>\n",
       "      <td>2.616.99</td>\n",
       "      <td>2017-01-01 08:54:00</td>\n",
       "    </tr>\n",
       "    <tr>\n",
       "      <th>59</th>\n",
       "      <td>1119214</td>\n",
       "      <td>299596</td>\n",
       "      <td>0</td>\n",
       "      <td>1</td>\n",
       "      <td>PAC1599</td>\n",
       "      <td>2.873.99</td>\n",
       "      <td>2017-01-01 09:53:11</td>\n",
       "    </tr>\n",
       "    <tr>\n",
       "      <th>...</th>\n",
       "      <td>...</td>\n",
       "      <td>...</td>\n",
       "      <td>...</td>\n",
       "      <td>...</td>\n",
       "      <td>...</td>\n",
       "      <td>...</td>\n",
       "      <td>...</td>\n",
       "    </tr>\n",
       "    <tr>\n",
       "      <th>293862</th>\n",
       "      <td>1649999</td>\n",
       "      <td>452946</td>\n",
       "      <td>0</td>\n",
       "      <td>1</td>\n",
       "      <td>APP2075</td>\n",
       "      <td>2.999.00</td>\n",
       "      <td>2018-03-14 13:03:33</td>\n",
       "    </tr>\n",
       "    <tr>\n",
       "      <th>293887</th>\n",
       "      <td>1650045</td>\n",
       "      <td>527321</td>\n",
       "      <td>0</td>\n",
       "      <td>1</td>\n",
       "      <td>PAC2148</td>\n",
       "      <td>3.497.00</td>\n",
       "      <td>2018-03-14 13:10:15</td>\n",
       "    </tr>\n",
       "    <tr>\n",
       "      <th>293889</th>\n",
       "      <td>1650050</td>\n",
       "      <td>527324</td>\n",
       "      <td>0</td>\n",
       "      <td>1</td>\n",
       "      <td>PAC2117</td>\n",
       "      <td>3.075.00</td>\n",
       "      <td>2018-03-14 13:10:56</td>\n",
       "    </tr>\n",
       "    <tr>\n",
       "      <th>293911</th>\n",
       "      <td>1650088</td>\n",
       "      <td>527342</td>\n",
       "      <td>0</td>\n",
       "      <td>1</td>\n",
       "      <td>APP2492</td>\n",
       "      <td>1.329.00</td>\n",
       "      <td>2018-03-14 13:24:51</td>\n",
       "    </tr>\n",
       "    <tr>\n",
       "      <th>293936</th>\n",
       "      <td>1650135</td>\n",
       "      <td>527364</td>\n",
       "      <td>0</td>\n",
       "      <td>1</td>\n",
       "      <td>APP2491</td>\n",
       "      <td>1.329.00</td>\n",
       "      <td>2018-03-14 13:36:13</td>\n",
       "    </tr>\n",
       "  </tbody>\n",
       "</table>\n",
       "<p>36169 rows × 7 columns</p>\n",
       "</div>"
      ],
      "text/plain": [
       "             id  id_order  product_id  product_quantity      sku unit_price  \\\n",
       "6       1119115    299544           0                 1  APP1582   1.137.99   \n",
       "11      1119126    299549           0                 1  PAC0929   2.565.99   \n",
       "15      1119131    299553           0                 1  APP1854   3.278.99   \n",
       "43      1119195    299582           0                 1  PAC0961   2.616.99   \n",
       "59      1119214    299596           0                 1  PAC1599   2.873.99   \n",
       "...         ...       ...         ...               ...      ...        ...   \n",
       "293862  1649999    452946           0                 1  APP2075   2.999.00   \n",
       "293887  1650045    527321           0                 1  PAC2148   3.497.00   \n",
       "293889  1650050    527324           0                 1  PAC2117   3.075.00   \n",
       "293911  1650088    527342           0                 1  APP2492   1.329.00   \n",
       "293936  1650135    527364           0                 1  APP2491   1.329.00   \n",
       "\n",
       "                      date  \n",
       "6      2017-01-01 01:17:21  \n",
       "11     2017-01-01 02:07:42  \n",
       "15     2017-01-01 02:14:47  \n",
       "43     2017-01-01 08:54:00  \n",
       "59     2017-01-01 09:53:11  \n",
       "...                    ...  \n",
       "293862 2018-03-14 13:03:33  \n",
       "293887 2018-03-14 13:10:15  \n",
       "293889 2018-03-14 13:10:56  \n",
       "293911 2018-03-14 13:24:51  \n",
       "293936 2018-03-14 13:36:13  \n",
       "\n",
       "[36169 rows x 7 columns]"
      ]
     },
     "execution_count": 9,
     "metadata": {},
     "output_type": "execute_result"
    }
   ],
   "source": [
    "#Counts how many prices contain two dots\n",
    "orderlines_df.loc[orderlines_df.unit_price.str.contains(\"\\d+\\.\\d+\\.\\d+\")]"
   ]
  },
  {
   "cell_type": "code",
   "execution_count": 10,
   "id": "658b08a2-3c23-494d-8c18-947426f599d9",
   "metadata": {
    "tags": []
   },
   "outputs": [
    {
     "name": "stdout",
     "output_type": "stream",
     "text": [
      "The 2 dot problem represents 12.3% of the rows in our DataFrame\n"
     ]
    }
   ],
   "source": [
    "two_dot_percentage = ((orderlines_df.unit_price.str.contains(\"\\d+\\.\\d+\\.\\d+\").value_counts()[1] / orderlines_df.shape[0])*100).round(2)\n",
    "print(f\"The 2 dot problem represents {two_dot_percentage}% of the rows in our DataFrame\")"
   ]
  },
  {
   "cell_type": "code",
   "execution_count": 11,
   "id": "a638ab13-1a11-4938-9848-1bd0811fdec8",
   "metadata": {
    "tags": []
   },
   "outputs": [],
   "source": [
    "# Create a mask for rows with prices containing two dots\n",
    "mask = orderlines_df['unit_price'].str.contains(r\"\\d+\\.\\d+\\.\\d+\")\n",
    "\n",
    "# Apply the replace only on those rows\n",
    "orderlines_df.loc[mask, 'unit_price'] = orderlines_df.loc[mask, 'unit_price'].str.replace('.', '', 1)"
   ]
  },
  {
   "cell_type": "code",
   "execution_count": 12,
   "id": "487f6157-b9f6-48a4-b7bc-a8b17f18a837",
   "metadata": {
    "tags": []
   },
   "outputs": [
    {
     "data": {
      "text/plain": [
       "unit_price\n",
       "False    293983\n",
       "Name: count, dtype: int64"
      ]
     },
     "execution_count": 12,
     "metadata": {},
     "output_type": "execute_result"
    }
   ],
   "source": [
    "#Counts how many prices contain two dots\n",
    "orderlines_df.unit_price.str.contains(\"\\d+\\.\\d+\\.\\d+\").value_counts()"
   ]
  },
  {
   "cell_type": "code",
   "execution_count": 13,
   "id": "cc9f62d7-50b1-49d1-88d8-d42f4ed53ca0",
   "metadata": {
    "tags": []
   },
   "outputs": [
    {
     "data": {
      "text/plain": [
       "unit_price\n",
       "True    293983\n",
       "Name: count, dtype: int64"
      ]
     },
     "execution_count": 13,
     "metadata": {},
     "output_type": "execute_result"
    }
   ],
   "source": [
    "#Counts how many prices contain one dot\n",
    "orderlines_df.unit_price.str.contains(\"\\d+\\.\\d+\").value_counts()"
   ]
  },
  {
   "cell_type": "code",
   "execution_count": 14,
   "id": "83322d85-b7b0-4f07-8d90-de7440e8a098",
   "metadata": {},
   "outputs": [
    {
     "data": {
      "text/plain": [
       "unit_price\n",
       "False    293983\n",
       "Name: count, dtype: int64"
      ]
     },
     "execution_count": 14,
     "metadata": {},
     "output_type": "execute_result"
    }
   ],
   "source": [
    "#How many rows have 3 numbers after the decimal point?\n",
    "orderlines_df.unit_price.str.contains(\"\\d+\\.\\d{3,}\").value_counts()"
   ]
  },
  {
   "cell_type": "code",
   "execution_count": 15,
   "id": "c3c31c18-f8be-405f-966d-b830276bff34",
   "metadata": {},
   "outputs": [],
   "source": [
    "orderlines_df[\"unit_price\"] = pd.to_numeric(orderlines_df[\"unit_price\"])"
   ]
  },
  {
   "cell_type": "code",
   "execution_count": 16,
   "id": "a58f3809-f7ba-499a-8f39-83675eb38221",
   "metadata": {
    "tags": []
   },
   "outputs": [
    {
     "name": "stdout",
     "output_type": "stream",
     "text": [
      "<class 'pandas.core.frame.DataFrame'>\n",
      "RangeIndex: 293983 entries, 0 to 293982\n",
      "Data columns (total 7 columns):\n",
      " #   Column            Non-Null Count   Dtype         \n",
      "---  ------            --------------   -----         \n",
      " 0   id                293983 non-null  int64         \n",
      " 1   id_order          293983 non-null  int64         \n",
      " 2   product_id        293983 non-null  int64         \n",
      " 3   product_quantity  293983 non-null  int64         \n",
      " 4   sku               293983 non-null  object        \n",
      " 5   unit_price        293983 non-null  float64       \n",
      " 6   date              293983 non-null  datetime64[ns]\n",
      "dtypes: datetime64[ns](1), float64(1), int64(4), object(1)\n",
      "memory usage: 15.7+ MB\n"
     ]
    }
   ],
   "source": [
    "orderlines_df.info()"
   ]
  },
  {
   "cell_type": "code",
   "execution_count": 17,
   "id": "a9c58e42-3e89-484a-96ee-cc3ed82f2212",
   "metadata": {},
   "outputs": [
    {
     "data": {
      "text/html": [
       "<div>\n",
       "<style scoped>\n",
       "    .dataframe tbody tr th:only-of-type {\n",
       "        vertical-align: middle;\n",
       "    }\n",
       "\n",
       "    .dataframe tbody tr th {\n",
       "        vertical-align: top;\n",
       "    }\n",
       "\n",
       "    .dataframe thead th {\n",
       "        text-align: right;\n",
       "    }\n",
       "</style>\n",
       "<table border=\"1\" class=\"dataframe\">\n",
       "  <thead>\n",
       "    <tr style=\"text-align: right;\">\n",
       "      <th></th>\n",
       "      <th>id</th>\n",
       "      <th>id_order</th>\n",
       "      <th>product_id</th>\n",
       "      <th>product_quantity</th>\n",
       "      <th>sku</th>\n",
       "      <th>unit_price</th>\n",
       "      <th>date</th>\n",
       "    </tr>\n",
       "  </thead>\n",
       "  <tbody>\n",
       "    <tr>\n",
       "      <th>53515</th>\n",
       "      <td>1227566</td>\n",
       "      <td>345934</td>\n",
       "      <td>0</td>\n",
       "      <td>1</td>\n",
       "      <td>KIN0153-2</td>\n",
       "      <td>0.0</td>\n",
       "      <td>2017-04-13 13:47:21</td>\n",
       "    </tr>\n",
       "    <tr>\n",
       "      <th>53530</th>\n",
       "      <td>1227590</td>\n",
       "      <td>345957</td>\n",
       "      <td>0</td>\n",
       "      <td>1</td>\n",
       "      <td>WDT0347</td>\n",
       "      <td>0.0</td>\n",
       "      <td>2017-04-13 14:44:05</td>\n",
       "    </tr>\n",
       "    <tr>\n",
       "      <th>56529</th>\n",
       "      <td>1232832</td>\n",
       "      <td>348502</td>\n",
       "      <td>0</td>\n",
       "      <td>1</td>\n",
       "      <td>LIBRO</td>\n",
       "      <td>0.0</td>\n",
       "      <td>2017-04-21 18:14:54</td>\n",
       "    </tr>\n",
       "    <tr>\n",
       "      <th>56562</th>\n",
       "      <td>1232888</td>\n",
       "      <td>348531</td>\n",
       "      <td>0</td>\n",
       "      <td>1</td>\n",
       "      <td>LIBRO</td>\n",
       "      <td>0.0</td>\n",
       "      <td>2017-04-21 19:46:54</td>\n",
       "    </tr>\n",
       "    <tr>\n",
       "      <th>56576</th>\n",
       "      <td>1232909</td>\n",
       "      <td>348542</td>\n",
       "      <td>0</td>\n",
       "      <td>1</td>\n",
       "      <td>LIBRO</td>\n",
       "      <td>0.0</td>\n",
       "      <td>2017-04-21 20:48:06</td>\n",
       "    </tr>\n",
       "    <tr>\n",
       "      <th>...</th>\n",
       "      <td>...</td>\n",
       "      <td>...</td>\n",
       "      <td>...</td>\n",
       "      <td>...</td>\n",
       "      <td>...</td>\n",
       "      <td>...</td>\n",
       "      <td>...</td>\n",
       "    </tr>\n",
       "    <tr>\n",
       "      <th>291880</th>\n",
       "      <td>1646431</td>\n",
       "      <td>525595</td>\n",
       "      <td>0</td>\n",
       "      <td>1</td>\n",
       "      <td>SYN0150</td>\n",
       "      <td>0.0</td>\n",
       "      <td>2018-03-11 20:50:46</td>\n",
       "    </tr>\n",
       "    <tr>\n",
       "      <th>292216</th>\n",
       "      <td>1647014</td>\n",
       "      <td>525883</td>\n",
       "      <td>0</td>\n",
       "      <td>1</td>\n",
       "      <td>APP0699</td>\n",
       "      <td>0.0</td>\n",
       "      <td>2018-03-12 12:26:57</td>\n",
       "    </tr>\n",
       "    <tr>\n",
       "      <th>292388</th>\n",
       "      <td>1647334</td>\n",
       "      <td>526025</td>\n",
       "      <td>0</td>\n",
       "      <td>1</td>\n",
       "      <td>WAC0251</td>\n",
       "      <td>0.0</td>\n",
       "      <td>2018-03-12 16:31:39</td>\n",
       "    </tr>\n",
       "    <tr>\n",
       "      <th>292905</th>\n",
       "      <td>1648288</td>\n",
       "      <td>526430</td>\n",
       "      <td>0</td>\n",
       "      <td>1</td>\n",
       "      <td>OWC0110</td>\n",
       "      <td>0.0</td>\n",
       "      <td>2018-03-13 13:27:05</td>\n",
       "    </tr>\n",
       "    <tr>\n",
       "      <th>292906</th>\n",
       "      <td>1648289</td>\n",
       "      <td>526430</td>\n",
       "      <td>0</td>\n",
       "      <td>1</td>\n",
       "      <td>NTE0013</td>\n",
       "      <td>0.0</td>\n",
       "      <td>2018-03-13 13:27:05</td>\n",
       "    </tr>\n",
       "  </tbody>\n",
       "</table>\n",
       "<p>865 rows × 7 columns</p>\n",
       "</div>"
      ],
      "text/plain": [
       "             id  id_order  product_id  product_quantity        sku  \\\n",
       "53515   1227566    345934           0                 1  KIN0153-2   \n",
       "53530   1227590    345957           0                 1    WDT0347   \n",
       "56529   1232832    348502           0                 1      LIBRO   \n",
       "56562   1232888    348531           0                 1      LIBRO   \n",
       "56576   1232909    348542           0                 1      LIBRO   \n",
       "...         ...       ...         ...               ...        ...   \n",
       "291880  1646431    525595           0                 1    SYN0150   \n",
       "292216  1647014    525883           0                 1    APP0699   \n",
       "292388  1647334    526025           0                 1    WAC0251   \n",
       "292905  1648288    526430           0                 1    OWC0110   \n",
       "292906  1648289    526430           0                 1    NTE0013   \n",
       "\n",
       "        unit_price                date  \n",
       "53515          0.0 2017-04-13 13:47:21  \n",
       "53530          0.0 2017-04-13 14:44:05  \n",
       "56529          0.0 2017-04-21 18:14:54  \n",
       "56562          0.0 2017-04-21 19:46:54  \n",
       "56576          0.0 2017-04-21 20:48:06  \n",
       "...            ...                 ...  \n",
       "291880         0.0 2018-03-11 20:50:46  \n",
       "292216         0.0 2018-03-12 12:26:57  \n",
       "292388         0.0 2018-03-12 16:31:39  \n",
       "292905         0.0 2018-03-13 13:27:05  \n",
       "292906         0.0 2018-03-13 13:27:05  \n",
       "\n",
       "[865 rows x 7 columns]"
      ]
     },
     "execution_count": 17,
     "metadata": {},
     "output_type": "execute_result"
    }
   ],
   "source": [
    "orderlines_df.loc[orderlines_df['unit_price'] == 0]"
   ]
  },
  {
   "cell_type": "code",
   "execution_count": 18,
   "id": "273a39f4-c90d-43b8-94fe-95bdd0798f4f",
   "metadata": {
    "tags": []
   },
   "outputs": [
    {
     "data": {
      "text/html": [
       "<div>\n",
       "<style scoped>\n",
       "    .dataframe tbody tr th:only-of-type {\n",
       "        vertical-align: middle;\n",
       "    }\n",
       "\n",
       "    .dataframe tbody tr th {\n",
       "        vertical-align: top;\n",
       "    }\n",
       "\n",
       "    .dataframe thead th {\n",
       "        text-align: right;\n",
       "    }\n",
       "</style>\n",
       "<table border=\"1\" class=\"dataframe\">\n",
       "  <thead>\n",
       "    <tr style=\"text-align: right;\">\n",
       "      <th></th>\n",
       "      <th>id</th>\n",
       "      <th>id_order</th>\n",
       "      <th>product_id</th>\n",
       "      <th>product_quantity</th>\n",
       "      <th>sku</th>\n",
       "      <th>unit_price</th>\n",
       "      <th>date</th>\n",
       "    </tr>\n",
       "  </thead>\n",
       "  <tbody>\n",
       "    <tr>\n",
       "      <th>77008</th>\n",
       "      <td>1268645</td>\n",
       "      <td>365886</td>\n",
       "      <td>0</td>\n",
       "      <td>1</td>\n",
       "      <td>APP1465</td>\n",
       "      <td>-119.0</td>\n",
       "      <td>2017-06-15 12:48:54</td>\n",
       "    </tr>\n",
       "  </tbody>\n",
       "</table>\n",
       "</div>"
      ],
      "text/plain": [
       "            id  id_order  product_id  product_quantity      sku  unit_price  \\\n",
       "77008  1268645    365886           0                 1  APP1465      -119.0   \n",
       "\n",
       "                     date  \n",
       "77008 2017-06-15 12:48:54  "
      ]
     },
     "execution_count": 18,
     "metadata": {},
     "output_type": "execute_result"
    }
   ],
   "source": [
    "orderlines_df.loc[orderlines_df['unit_price'] < 0]"
   ]
  },
  {
   "cell_type": "code",
   "execution_count": 19,
   "id": "20c3d506-8992-4362-9d60-87793f1845b7",
   "metadata": {
    "tags": []
   },
   "outputs": [
    {
     "data": {
      "text/plain": [
       "204855"
      ]
     },
     "execution_count": 19,
     "metadata": {},
     "output_type": "execute_result"
    }
   ],
   "source": [
    "orderlines_df['id_order'].nunique()"
   ]
  },
  {
   "cell_type": "code",
   "execution_count": 20,
   "id": "9abbf120-58b3-4f5f-acab-a75163768125",
   "metadata": {
    "tags": []
   },
   "outputs": [
    {
     "data": {
      "text/plain": [
       "293983"
      ]
     },
     "execution_count": 20,
     "metadata": {},
     "output_type": "execute_result"
    }
   ],
   "source": [
    "orderlines_df['id_order'].count()"
   ]
  },
  {
   "cell_type": "code",
   "execution_count": 21,
   "id": "888f6d8f-8580-4ab1-8caf-22ae6d62d391",
   "metadata": {
    "tags": []
   },
   "outputs": [
    {
     "data": {
      "text/plain": [
       "7951"
      ]
     },
     "execution_count": 21,
     "metadata": {},
     "output_type": "execute_result"
    }
   ],
   "source": [
    "orderlines_df['sku'].nunique()"
   ]
  },
  {
   "cell_type": "code",
   "execution_count": 22,
   "id": "e71c7bbc-b612-4ca4-9250-1d6f50dc55eb",
   "metadata": {
    "tags": []
   },
   "outputs": [
    {
     "data": {
      "text/html": [
       "<div>\n",
       "<style scoped>\n",
       "    .dataframe tbody tr th:only-of-type {\n",
       "        vertical-align: middle;\n",
       "    }\n",
       "\n",
       "    .dataframe tbody tr th {\n",
       "        vertical-align: top;\n",
       "    }\n",
       "\n",
       "    .dataframe thead th {\n",
       "        text-align: right;\n",
       "    }\n",
       "</style>\n",
       "<table border=\"1\" class=\"dataframe\">\n",
       "  <thead>\n",
       "    <tr style=\"text-align: right;\">\n",
       "      <th></th>\n",
       "      <th>id</th>\n",
       "      <th>id_order</th>\n",
       "      <th>product_id</th>\n",
       "      <th>product_quantity</th>\n",
       "      <th>sku</th>\n",
       "      <th>unit_price</th>\n",
       "      <th>date</th>\n",
       "    </tr>\n",
       "  </thead>\n",
       "  <tbody>\n",
       "    <tr>\n",
       "      <th>36979</th>\n",
       "      <td>1197439</td>\n",
       "      <td>331780</td>\n",
       "      <td>0</td>\n",
       "      <td>1</td>\n",
       "      <td>NEA0009</td>\n",
       "      <td>159989.83</td>\n",
       "      <td>2017-03-03 22:29:21</td>\n",
       "    </tr>\n",
       "    <tr>\n",
       "      <th>38317</th>\n",
       "      <td>1200059</td>\n",
       "      <td>332976</td>\n",
       "      <td>0</td>\n",
       "      <td>6</td>\n",
       "      <td>LAC0223</td>\n",
       "      <td>15349.00</td>\n",
       "      <td>2017-03-07 15:51:14</td>\n",
       "    </tr>\n",
       "    <tr>\n",
       "      <th>282442</th>\n",
       "      <td>1632863</td>\n",
       "      <td>520029</td>\n",
       "      <td>0</td>\n",
       "      <td>1</td>\n",
       "      <td>APP2660</td>\n",
       "      <td>14725.00</td>\n",
       "      <td>2018-03-02 11:57:52</td>\n",
       "    </tr>\n",
       "    <tr>\n",
       "      <th>253465</th>\n",
       "      <td>1585660</td>\n",
       "      <td>500546</td>\n",
       "      <td>0</td>\n",
       "      <td>1</td>\n",
       "      <td>APP2660</td>\n",
       "      <td>14580.00</td>\n",
       "      <td>2018-01-29 01:55:02</td>\n",
       "    </tr>\n",
       "    <tr>\n",
       "      <th>232052</th>\n",
       "      <td>1551007</td>\n",
       "      <td>487164</td>\n",
       "      <td>0</td>\n",
       "      <td>1</td>\n",
       "      <td>APP2660</td>\n",
       "      <td>14580.00</td>\n",
       "      <td>2018-01-09 23:33:16</td>\n",
       "    </tr>\n",
       "    <tr>\n",
       "      <th>...</th>\n",
       "      <td>...</td>\n",
       "      <td>...</td>\n",
       "      <td>...</td>\n",
       "      <td>...</td>\n",
       "      <td>...</td>\n",
       "      <td>...</td>\n",
       "      <td>...</td>\n",
       "    </tr>\n",
       "    <tr>\n",
       "      <th>69092</th>\n",
       "      <td>1254720</td>\n",
       "      <td>359037</td>\n",
       "      <td>0</td>\n",
       "      <td>1</td>\n",
       "      <td>LIBRO</td>\n",
       "      <td>0.00</td>\n",
       "      <td>2017-05-25 12:27:59</td>\n",
       "    </tr>\n",
       "    <tr>\n",
       "      <th>69146</th>\n",
       "      <td>1254827</td>\n",
       "      <td>359083</td>\n",
       "      <td>0</td>\n",
       "      <td>3</td>\n",
       "      <td>LIBRO</td>\n",
       "      <td>0.00</td>\n",
       "      <td>2017-05-25 13:59:29</td>\n",
       "    </tr>\n",
       "    <tr>\n",
       "      <th>246444</th>\n",
       "      <td>1575082</td>\n",
       "      <td>496513</td>\n",
       "      <td>0</td>\n",
       "      <td>1</td>\n",
       "      <td>ALL0008</td>\n",
       "      <td>0.00</td>\n",
       "      <td>2018-01-23 03:40:54</td>\n",
       "    </tr>\n",
       "    <tr>\n",
       "      <th>160051</th>\n",
       "      <td>1433959</td>\n",
       "      <td>437637</td>\n",
       "      <td>0</td>\n",
       "      <td>1</td>\n",
       "      <td>BOS0065</td>\n",
       "      <td>0.00</td>\n",
       "      <td>2017-11-24 09:22:36</td>\n",
       "    </tr>\n",
       "    <tr>\n",
       "      <th>77008</th>\n",
       "      <td>1268645</td>\n",
       "      <td>365886</td>\n",
       "      <td>0</td>\n",
       "      <td>1</td>\n",
       "      <td>APP1465</td>\n",
       "      <td>-119.00</td>\n",
       "      <td>2017-06-15 12:48:54</td>\n",
       "    </tr>\n",
       "  </tbody>\n",
       "</table>\n",
       "<p>293983 rows × 7 columns</p>\n",
       "</div>"
      ],
      "text/plain": [
       "             id  id_order  product_id  product_quantity      sku  unit_price  \\\n",
       "36979   1197439    331780           0                 1  NEA0009   159989.83   \n",
       "38317   1200059    332976           0                 6  LAC0223    15349.00   \n",
       "282442  1632863    520029           0                 1  APP2660    14725.00   \n",
       "253465  1585660    500546           0                 1  APP2660    14580.00   \n",
       "232052  1551007    487164           0                 1  APP2660    14580.00   \n",
       "...         ...       ...         ...               ...      ...         ...   \n",
       "69092   1254720    359037           0                 1    LIBRO        0.00   \n",
       "69146   1254827    359083           0                 3    LIBRO        0.00   \n",
       "246444  1575082    496513           0                 1  ALL0008        0.00   \n",
       "160051  1433959    437637           0                 1  BOS0065        0.00   \n",
       "77008   1268645    365886           0                 1  APP1465     -119.00   \n",
       "\n",
       "                      date  \n",
       "36979  2017-03-03 22:29:21  \n",
       "38317  2017-03-07 15:51:14  \n",
       "282442 2018-03-02 11:57:52  \n",
       "253465 2018-01-29 01:55:02  \n",
       "232052 2018-01-09 23:33:16  \n",
       "...                    ...  \n",
       "69092  2017-05-25 12:27:59  \n",
       "69146  2017-05-25 13:59:29  \n",
       "246444 2018-01-23 03:40:54  \n",
       "160051 2017-11-24 09:22:36  \n",
       "77008  2017-06-15 12:48:54  \n",
       "\n",
       "[293983 rows x 7 columns]"
      ]
     },
     "execution_count": 22,
     "metadata": {},
     "output_type": "execute_result"
    }
   ],
   "source": [
    "orderlines_df.sort_values(by='unit_price', ascending=False)"
   ]
  },
  {
   "cell_type": "code",
   "execution_count": 23,
   "id": "72a20f84-2338-4d41-a8c4-a7501e6ab0de",
   "metadata": {
    "tags": []
   },
   "outputs": [],
   "source": [
    "#Remove outlier with price of 150.000\n",
    "orderlines[orderlines_df['sku'] == 'NEA0009']\n",
    "#orderlines_df = orderlines_df[orderlines_df['sku'] != 'NEA0009']"
   ]
  },
  {
   "cell_type": "code",
   "execution_count": 24,
   "id": "ee450fb4-9bf9-48ca-a5d6-b384c524f8e1",
   "metadata": {
    "tags": []
   },
   "outputs": [],
   "source": [
    "#Remove outlier with price of -119 Euro\n",
    "orderlines_df = orderlines_df[orderlines_df['sku'] != 'APP1465']"
   ]
  },
  {
   "cell_type": "code",
   "execution_count": 25,
   "id": "7d39a8ab-3abf-449b-b58e-4ed2e168508e",
   "metadata": {
    "tags": []
   },
   "outputs": [
    {
     "data": {
      "text/html": [
       "<div>\n",
       "<style scoped>\n",
       "    .dataframe tbody tr th:only-of-type {\n",
       "        vertical-align: middle;\n",
       "    }\n",
       "\n",
       "    .dataframe tbody tr th {\n",
       "        vertical-align: top;\n",
       "    }\n",
       "\n",
       "    .dataframe thead th {\n",
       "        text-align: right;\n",
       "    }\n",
       "</style>\n",
       "<table border=\"1\" class=\"dataframe\">\n",
       "  <thead>\n",
       "    <tr style=\"text-align: right;\">\n",
       "      <th></th>\n",
       "      <th>id</th>\n",
       "      <th>id_order</th>\n",
       "      <th>product_id</th>\n",
       "      <th>product_quantity</th>\n",
       "      <th>sku</th>\n",
       "      <th>unit_price</th>\n",
       "      <th>date</th>\n",
       "    </tr>\n",
       "  </thead>\n",
       "  <tbody>\n",
       "    <tr>\n",
       "      <th>38317</th>\n",
       "      <td>1200059</td>\n",
       "      <td>332976</td>\n",
       "      <td>0</td>\n",
       "      <td>6</td>\n",
       "      <td>LAC0223</td>\n",
       "      <td>15349.0</td>\n",
       "      <td>2017-03-07 15:51:14</td>\n",
       "    </tr>\n",
       "    <tr>\n",
       "      <th>282442</th>\n",
       "      <td>1632863</td>\n",
       "      <td>520029</td>\n",
       "      <td>0</td>\n",
       "      <td>1</td>\n",
       "      <td>APP2660</td>\n",
       "      <td>14725.0</td>\n",
       "      <td>2018-03-02 11:57:52</td>\n",
       "    </tr>\n",
       "    <tr>\n",
       "      <th>248338</th>\n",
       "      <td>1577659</td>\n",
       "      <td>497375</td>\n",
       "      <td>0</td>\n",
       "      <td>1</td>\n",
       "      <td>APP2660</td>\n",
       "      <td>14580.0</td>\n",
       "      <td>2018-01-23 23:55:41</td>\n",
       "    </tr>\n",
       "    <tr>\n",
       "      <th>232052</th>\n",
       "      <td>1551007</td>\n",
       "      <td>487164</td>\n",
       "      <td>0</td>\n",
       "      <td>1</td>\n",
       "      <td>APP2660</td>\n",
       "      <td>14580.0</td>\n",
       "      <td>2018-01-09 23:33:16</td>\n",
       "    </tr>\n",
       "    <tr>\n",
       "      <th>234834</th>\n",
       "      <td>1555558</td>\n",
       "      <td>488935</td>\n",
       "      <td>0</td>\n",
       "      <td>4</td>\n",
       "      <td>APP2660</td>\n",
       "      <td>14580.0</td>\n",
       "      <td>2018-01-11 21:11:34</td>\n",
       "    </tr>\n",
       "    <tr>\n",
       "      <th>...</th>\n",
       "      <td>...</td>\n",
       "      <td>...</td>\n",
       "      <td>...</td>\n",
       "      <td>...</td>\n",
       "      <td>...</td>\n",
       "      <td>...</td>\n",
       "      <td>...</td>\n",
       "    </tr>\n",
       "    <tr>\n",
       "      <th>271941</th>\n",
       "      <td>1614765</td>\n",
       "      <td>511949</td>\n",
       "      <td>0</td>\n",
       "      <td>1</td>\n",
       "      <td>OWC0144</td>\n",
       "      <td>0.0</td>\n",
       "      <td>2018-02-15 11:29:29</td>\n",
       "    </tr>\n",
       "    <tr>\n",
       "      <th>160562</th>\n",
       "      <td>1434846</td>\n",
       "      <td>438068</td>\n",
       "      <td>0</td>\n",
       "      <td>1</td>\n",
       "      <td>SYN0188</td>\n",
       "      <td>0.0</td>\n",
       "      <td>2017-11-24 10:32:27</td>\n",
       "    </tr>\n",
       "    <tr>\n",
       "      <th>264880</th>\n",
       "      <td>1603812</td>\n",
       "      <td>507367</td>\n",
       "      <td>0</td>\n",
       "      <td>1</td>\n",
       "      <td>APP2499</td>\n",
       "      <td>0.0</td>\n",
       "      <td>2018-02-07 12:23:07</td>\n",
       "    </tr>\n",
       "    <tr>\n",
       "      <th>162017</th>\n",
       "      <td>1437538</td>\n",
       "      <td>439263</td>\n",
       "      <td>0</td>\n",
       "      <td>1</td>\n",
       "      <td>SNS0025</td>\n",
       "      <td>0.0</td>\n",
       "      <td>2017-11-24 13:58:26</td>\n",
       "    </tr>\n",
       "    <tr>\n",
       "      <th>244679</th>\n",
       "      <td>1571802</td>\n",
       "      <td>495132</td>\n",
       "      <td>0</td>\n",
       "      <td>1</td>\n",
       "      <td>SNN0063</td>\n",
       "      <td>0.0</td>\n",
       "      <td>2018-01-20 17:09:36</td>\n",
       "    </tr>\n",
       "  </tbody>\n",
       "</table>\n",
       "<p>293336 rows × 7 columns</p>\n",
       "</div>"
      ],
      "text/plain": [
       "             id  id_order  product_id  product_quantity      sku  unit_price  \\\n",
       "38317   1200059    332976           0                 6  LAC0223     15349.0   \n",
       "282442  1632863    520029           0                 1  APP2660     14725.0   \n",
       "248338  1577659    497375           0                 1  APP2660     14580.0   \n",
       "232052  1551007    487164           0                 1  APP2660     14580.0   \n",
       "234834  1555558    488935           0                 4  APP2660     14580.0   \n",
       "...         ...       ...         ...               ...      ...         ...   \n",
       "271941  1614765    511949           0                 1  OWC0144         0.0   \n",
       "160562  1434846    438068           0                 1  SYN0188         0.0   \n",
       "264880  1603812    507367           0                 1  APP2499         0.0   \n",
       "162017  1437538    439263           0                 1  SNS0025         0.0   \n",
       "244679  1571802    495132           0                 1  SNN0063         0.0   \n",
       "\n",
       "                      date  \n",
       "38317  2017-03-07 15:51:14  \n",
       "282442 2018-03-02 11:57:52  \n",
       "248338 2018-01-23 23:55:41  \n",
       "232052 2018-01-09 23:33:16  \n",
       "234834 2018-01-11 21:11:34  \n",
       "...                    ...  \n",
       "271941 2018-02-15 11:29:29  \n",
       "160562 2017-11-24 10:32:27  \n",
       "264880 2018-02-07 12:23:07  \n",
       "162017 2017-11-24 13:58:26  \n",
       "244679 2018-01-20 17:09:36  \n",
       "\n",
       "[293336 rows x 7 columns]"
      ]
     },
     "execution_count": 25,
     "metadata": {},
     "output_type": "execute_result"
    }
   ],
   "source": [
    "orderlines_df.sort_values(by='unit_price', ascending=False)"
   ]
  },
  {
   "cell_type": "code",
   "execution_count": 26,
   "id": "f23ca7ad-fbaf-4f07-8dcd-3bb72986c2ef",
   "metadata": {
    "tags": []
   },
   "outputs": [],
   "source": [
    "#Categorizing in price groups\n",
    "bins = [0, 50, 100, 200, 500, 750, 1000, 2500, 5000, 7500, 10000, 12500, 16000]  \n",
    "labels = ['-50', '-100', '-200', '-500', '-750', '-1000', '-2500', '-5000', '-7500', '-10000', '-12500', '-16000'] \n",
    "\n",
    "orderlines_df['price_group'] = pd.cut(orderlines_df['unit_price'], bins=bins, labels=labels, right=False)"
   ]
  },
  {
   "cell_type": "code",
   "execution_count": 27,
   "id": "44196a0a-f07f-4df3-adbd-c03612bdbe6f",
   "metadata": {
    "tags": []
   },
   "outputs": [
    {
     "data": {
      "text/plain": [
       "price_group\n",
       "-50       93882\n",
       "-100      59356\n",
       "-200      47556\n",
       "-500      35516\n",
       "-750       9865\n",
       "-1000     10993\n",
       "-2500     24009\n",
       "-5000     11689\n",
       "-7500       405\n",
       "-10000       33\n",
       "-12500       17\n",
       "-16000       15\n",
       "Name: sku, dtype: int64"
      ]
     },
     "execution_count": 27,
     "metadata": {},
     "output_type": "execute_result"
    }
   ],
   "source": [
    "orderlines_df.groupby('price_group')['sku'].count()"
   ]
  },
  {
   "cell_type": "code",
   "execution_count": 28,
   "id": "443e3524-c333-40f6-b806-b9768f243110",
   "metadata": {
    "tags": []
   },
   "outputs": [
    {
     "data": {
      "text/plain": [
       "15349.0"
      ]
     },
     "execution_count": 28,
     "metadata": {},
     "output_type": "execute_result"
    }
   ],
   "source": [
    "orderlines_df['unit_price'].max()"
   ]
  },
  {
   "cell_type": "code",
   "execution_count": 29,
   "id": "e1c40ae4-6657-4eef-bfc4-23fc83e3a050",
   "metadata": {
    "tags": []
   },
   "outputs": [],
   "source": [
    "#Calculating average price: Revenue/number of products sold - or-\n",
    "#Sum of Unit_Prices/Sum of SKUs"
   ]
  },
  {
   "cell_type": "code",
   "execution_count": 30,
   "id": "e52a2f32-4532-495c-bc1b-ed19199d4f8d",
   "metadata": {
    "tags": []
   },
   "outputs": [
    {
     "data": {
      "text/plain": [
       "120244927"
      ]
     },
     "execution_count": 30,
     "metadata": {},
     "output_type": "execute_result"
    }
   ],
   "source": [
    "round(orderlines_df['unit_price'].sum())"
   ]
  },
  {
   "cell_type": "code",
   "execution_count": 31,
   "id": "59ad4d0f-e332-48c3-b996-b2220dd9b12a",
   "metadata": {
    "tags": []
   },
   "outputs": [
    {
     "data": {
      "text/plain": [
       "293336"
      ]
     },
     "execution_count": 31,
     "metadata": {},
     "output_type": "execute_result"
    }
   ],
   "source": [
    "orderlines_df['id_order'].count()"
   ]
  },
  {
   "cell_type": "code",
   "execution_count": 32,
   "id": "a91c8f9f-c3d1-4160-b537-f8766bfc4a6c",
   "metadata": {
    "tags": []
   },
   "outputs": [
    {
     "data": {
      "text/plain": [
       "204407"
      ]
     },
     "execution_count": 32,
     "metadata": {},
     "output_type": "execute_result"
    }
   ],
   "source": [
    "orderlines_df['id_order'].nunique()"
   ]
  },
  {
   "cell_type": "code",
   "execution_count": 33,
   "id": "eb8308d7-b41f-4744-88cf-0f3c56c92ad8",
   "metadata": {
    "tags": []
   },
   "outputs": [
    {
     "data": {
      "text/plain": [
       "7949"
      ]
     },
     "execution_count": 33,
     "metadata": {},
     "output_type": "execute_result"
    }
   ],
   "source": [
    "orderlines_df['sku'].nunique()"
   ]
  },
  {
   "cell_type": "code",
   "execution_count": 34,
   "id": "ffd69f1b-5f17-41cd-800d-24a3603101a1",
   "metadata": {},
   "outputs": [
    {
     "data": {
      "text/plain": [
       "293336"
      ]
     },
     "execution_count": 34,
     "metadata": {},
     "output_type": "execute_result"
    }
   ],
   "source": [
    "orderlines_df['sku'].count()"
   ]
  },
  {
   "cell_type": "code",
   "execution_count": 35,
   "id": "77eed50d-93fd-43d7-b3e9-55be610edbe7",
   "metadata": {},
   "outputs": [],
   "source": [
    "# 120.244.927 / 293.336 = 410 Euro"
   ]
  },
  {
   "cell_type": "code",
   "execution_count": 36,
   "id": "b83ef48e-2424-45c9-b19f-dee4e60b1032",
   "metadata": {},
   "outputs": [],
   "source": [
    "orderlines_cl1 = orderlines_df"
   ]
  },
  {
   "cell_type": "code",
   "execution_count": 37,
   "id": "98dd6e6d-99b0-4384-ad9f-01dca5d29808",
   "metadata": {
    "tags": []
   },
   "outputs": [],
   "source": [
    "orderlines_cl1 = pd.read_csv('orderlines_cl1.csv', parse_dates=['date'])"
   ]
  },
  {
   "cell_type": "code",
   "execution_count": null,
   "id": "f16b91f8-c1ac-49b1-b929-409dfa48798a",
   "metadata": {},
   "outputs": [],
   "source": []
  }
 ],
 "metadata": {
  "kernelspec": {
   "display_name": "Python 3 (ipykernel)",
   "language": "python",
   "name": "python3"
  },
  "language_info": {
   "codemirror_mode": {
    "name": "ipython",
    "version": 3
   },
   "file_extension": ".py",
   "mimetype": "text/x-python",
   "name": "python",
   "nbconvert_exporter": "python",
   "pygments_lexer": "ipython3",
   "version": "3.11.5"
  }
 },
 "nbformat": 4,
 "nbformat_minor": 5
}
