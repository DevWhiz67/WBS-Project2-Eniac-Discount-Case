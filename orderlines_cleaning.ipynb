{
 "cells": [
  {
   "cell_type": "code",
   "execution_count": 1,
   "id": "88ccd72b-5571-4b37-ae2a-0b92088855f3",
   "metadata": {
    "tags": []
   },
   "outputs": [],
   "source": [
    "import pandas as pd\n",
    "pd.options.display.max_rows = 100\n",
    "orderlines = pd.read_csv('orderlines.csv')"
   ]
  },
  {
   "cell_type": "code",
   "execution_count": 2,
   "id": "0a7f8633-9762-4238-8f7a-962baef726e3",
   "metadata": {},
   "outputs": [],
   "source": [
    "#Removed 36169 rows with prices with two dots\n",
    "#Should we delete the SKUs we have deleted in the table products because of weired prices?\n",
    "#Check for number of orders"
   ]
  },
  {
   "cell_type": "code",
   "execution_count": 3,
   "id": "4a6296a3-e7b4-44ac-b002-9f8d05b36cf4",
   "metadata": {
    "tags": []
   },
   "outputs": [
    {
     "data": {
      "text/html": [
       "<div>\n",
       "<style scoped>\n",
       "    .dataframe tbody tr th:only-of-type {\n",
       "        vertical-align: middle;\n",
       "    }\n",
       "\n",
       "    .dataframe tbody tr th {\n",
       "        vertical-align: top;\n",
       "    }\n",
       "\n",
       "    .dataframe thead th {\n",
       "        text-align: right;\n",
       "    }\n",
       "</style>\n",
       "<table border=\"1\" class=\"dataframe\">\n",
       "  <thead>\n",
       "    <tr style=\"text-align: right;\">\n",
       "      <th></th>\n",
       "      <th>id</th>\n",
       "      <th>id_order</th>\n",
       "      <th>product_id</th>\n",
       "      <th>product_quantity</th>\n",
       "      <th>sku</th>\n",
       "      <th>unit_price</th>\n",
       "      <th>date</th>\n",
       "    </tr>\n",
       "  </thead>\n",
       "  <tbody>\n",
       "    <tr>\n",
       "      <th>0</th>\n",
       "      <td>1119109</td>\n",
       "      <td>299539</td>\n",
       "      <td>0</td>\n",
       "      <td>1</td>\n",
       "      <td>OTT0133</td>\n",
       "      <td>18.99</td>\n",
       "      <td>2017-01-01 00:07:19</td>\n",
       "    </tr>\n",
       "    <tr>\n",
       "      <th>1</th>\n",
       "      <td>1119110</td>\n",
       "      <td>299540</td>\n",
       "      <td>0</td>\n",
       "      <td>1</td>\n",
       "      <td>LGE0043</td>\n",
       "      <td>399.00</td>\n",
       "      <td>2017-01-01 00:19:45</td>\n",
       "    </tr>\n",
       "    <tr>\n",
       "      <th>2</th>\n",
       "      <td>1119111</td>\n",
       "      <td>299541</td>\n",
       "      <td>0</td>\n",
       "      <td>1</td>\n",
       "      <td>PAR0071</td>\n",
       "      <td>474.05</td>\n",
       "      <td>2017-01-01 00:20:57</td>\n",
       "    </tr>\n",
       "    <tr>\n",
       "      <th>3</th>\n",
       "      <td>1119112</td>\n",
       "      <td>299542</td>\n",
       "      <td>0</td>\n",
       "      <td>1</td>\n",
       "      <td>WDT0315</td>\n",
       "      <td>68.39</td>\n",
       "      <td>2017-01-01 00:51:40</td>\n",
       "    </tr>\n",
       "    <tr>\n",
       "      <th>4</th>\n",
       "      <td>1119113</td>\n",
       "      <td>299543</td>\n",
       "      <td>0</td>\n",
       "      <td>1</td>\n",
       "      <td>JBL0104</td>\n",
       "      <td>23.74</td>\n",
       "      <td>2017-01-01 01:06:38</td>\n",
       "    </tr>\n",
       "    <tr>\n",
       "      <th>...</th>\n",
       "      <td>...</td>\n",
       "      <td>...</td>\n",
       "      <td>...</td>\n",
       "      <td>...</td>\n",
       "      <td>...</td>\n",
       "      <td>...</td>\n",
       "      <td>...</td>\n",
       "    </tr>\n",
       "    <tr>\n",
       "      <th>293978</th>\n",
       "      <td>1650199</td>\n",
       "      <td>527398</td>\n",
       "      <td>0</td>\n",
       "      <td>1</td>\n",
       "      <td>JBL0122</td>\n",
       "      <td>42.99</td>\n",
       "      <td>2018-03-14 13:57:25</td>\n",
       "    </tr>\n",
       "    <tr>\n",
       "      <th>293979</th>\n",
       "      <td>1650200</td>\n",
       "      <td>527399</td>\n",
       "      <td>0</td>\n",
       "      <td>1</td>\n",
       "      <td>PAC0653</td>\n",
       "      <td>141.58</td>\n",
       "      <td>2018-03-14 13:57:34</td>\n",
       "    </tr>\n",
       "    <tr>\n",
       "      <th>293980</th>\n",
       "      <td>1650201</td>\n",
       "      <td>527400</td>\n",
       "      <td>0</td>\n",
       "      <td>2</td>\n",
       "      <td>APP0698</td>\n",
       "      <td>9.99</td>\n",
       "      <td>2018-03-14 13:57:41</td>\n",
       "    </tr>\n",
       "    <tr>\n",
       "      <th>293981</th>\n",
       "      <td>1650202</td>\n",
       "      <td>527388</td>\n",
       "      <td>0</td>\n",
       "      <td>1</td>\n",
       "      <td>BEZ0204</td>\n",
       "      <td>19.99</td>\n",
       "      <td>2018-03-14 13:58:01</td>\n",
       "    </tr>\n",
       "    <tr>\n",
       "      <th>293982</th>\n",
       "      <td>1650203</td>\n",
       "      <td>527401</td>\n",
       "      <td>0</td>\n",
       "      <td>1</td>\n",
       "      <td>APP0927</td>\n",
       "      <td>13.99</td>\n",
       "      <td>2018-03-14 13:58:36</td>\n",
       "    </tr>\n",
       "  </tbody>\n",
       "</table>\n",
       "<p>293983 rows × 7 columns</p>\n",
       "</div>"
      ],
      "text/plain": [
       "             id  id_order  product_id  product_quantity      sku unit_price  \\\n",
       "0       1119109    299539           0                 1  OTT0133      18.99   \n",
       "1       1119110    299540           0                 1  LGE0043     399.00   \n",
       "2       1119111    299541           0                 1  PAR0071     474.05   \n",
       "3       1119112    299542           0                 1  WDT0315      68.39   \n",
       "4       1119113    299543           0                 1  JBL0104      23.74   \n",
       "...         ...       ...         ...               ...      ...        ...   \n",
       "293978  1650199    527398           0                 1  JBL0122      42.99   \n",
       "293979  1650200    527399           0                 1  PAC0653     141.58   \n",
       "293980  1650201    527400           0                 2  APP0698       9.99   \n",
       "293981  1650202    527388           0                 1  BEZ0204      19.99   \n",
       "293982  1650203    527401           0                 1  APP0927      13.99   \n",
       "\n",
       "                       date  \n",
       "0       2017-01-01 00:07:19  \n",
       "1       2017-01-01 00:19:45  \n",
       "2       2017-01-01 00:20:57  \n",
       "3       2017-01-01 00:51:40  \n",
       "4       2017-01-01 01:06:38  \n",
       "...                     ...  \n",
       "293978  2018-03-14 13:57:25  \n",
       "293979  2018-03-14 13:57:34  \n",
       "293980  2018-03-14 13:57:41  \n",
       "293981  2018-03-14 13:58:01  \n",
       "293982  2018-03-14 13:58:36  \n",
       "\n",
       "[293983 rows x 7 columns]"
      ]
     },
     "execution_count": 3,
     "metadata": {},
     "output_type": "execute_result"
    }
   ],
   "source": [
    "orderlines"
   ]
  },
  {
   "cell_type": "code",
   "execution_count": 4,
   "id": "7891d924-99fa-48af-8993-7005d840789f",
   "metadata": {
    "tags": []
   },
   "outputs": [],
   "source": [
    "orderlines_df = orderlines.copy()"
   ]
  },
  {
   "cell_type": "code",
   "execution_count": 5,
   "id": "eae4c341-4505-4180-98ef-61ba3e6bca36",
   "metadata": {
    "tags": []
   },
   "outputs": [],
   "source": [
    "#chage data type to date\n",
    "orderlines_df[\"date\"] = pd.to_datetime(orderlines_df[\"date\"])"
   ]
  },
  {
   "cell_type": "code",
   "execution_count": 6,
   "id": "a8dce00f-5d60-4d76-b3f6-7f95cf1fc0d1",
   "metadata": {},
   "outputs": [],
   "source": [
    "#orderlines_df[\"unit_price\"] = pd.to_numeric(orderlines_df[\"unit_price\"])"
   ]
  },
  {
   "cell_type": "code",
   "execution_count": 7,
   "id": "b5b62699-94f4-4441-9d9d-d30bdfb7ef9d",
   "metadata": {
    "tags": []
   },
   "outputs": [
    {
     "data": {
      "text/plain": [
       "unit_price\n",
       "False    257814\n",
       "True      36169\n",
       "Name: count, dtype: int64"
      ]
     },
     "execution_count": 7,
     "metadata": {},
     "output_type": "execute_result"
    }
   ],
   "source": [
    "#How many numbers contain two dots\n",
    "orderlines_df.unit_price.str.contains(\"\\d+\\.\\d+\\.\\d+\").value_counts()"
   ]
  },
  {
   "cell_type": "code",
   "execution_count": 8,
   "id": "658b08a2-3c23-494d-8c18-947426f599d9",
   "metadata": {
    "tags": []
   },
   "outputs": [
    {
     "name": "stdout",
     "output_type": "stream",
     "text": [
      "The 2 dot problem represents 12.3% of the rows in our DataFrame\n"
     ]
    }
   ],
   "source": [
    "two_dot_percentage = ((orderlines_df.unit_price.str.contains(\"\\d+\\.\\d+\\.\\d+\").value_counts()[1] / orderlines_df.shape[0])*100).round(2)\n",
    "print(f\"The 2 dot problem represents {two_dot_percentage}% of the rows in our DataFrame\")"
   ]
  },
  {
   "cell_type": "code",
   "execution_count": 9,
   "id": "fb1d9b64-acff-4799-9467-55d47070ec80",
   "metadata": {
    "tags": []
   },
   "outputs": [],
   "source": [
    "two_dot_order_ids_list = orderlines_df.loc[orderlines_df.unit_price.str.contains(\"\\d+\\.\\d+\\.\\d+\"), \"id_order\"]\n",
    "orderlines_df = orderlines_df.loc[~orderlines_df.id_order.isin(two_dot_order_ids_list)]"
   ]
  },
  {
   "cell_type": "code",
   "execution_count": 10,
   "id": "ecbc0dca-deb9-4447-85c8-c70f79d9291c",
   "metadata": {
    "tags": []
   },
   "outputs": [
    {
     "data": {
      "text/plain": [
       "216250"
      ]
     },
     "execution_count": 10,
     "metadata": {},
     "output_type": "execute_result"
    }
   ],
   "source": [
    "orderlines_df.shape[0]"
   ]
  },
  {
   "cell_type": "code",
   "execution_count": 11,
   "id": "c3c31c18-f8be-405f-966d-b830276bff34",
   "metadata": {},
   "outputs": [],
   "source": [
    "#orderlines_df[\"unit_price\"] = pd.to_numeric(orderlines_df[\"unit_price\"])"
   ]
  },
  {
   "cell_type": "code",
   "execution_count": 12,
   "id": "e9c1469f-70d7-4401-9f63-1001efc89ee8",
   "metadata": {
    "tags": []
   },
   "outputs": [],
   "source": [
    "orderlines_df.loc[:, \"unit_price\"] = pd.to_numeric(orderlines_df[\"unit_price\"])"
   ]
  },
  {
   "cell_type": "code",
   "execution_count": 13,
   "id": "a58f3809-f7ba-499a-8f39-83675eb38221",
   "metadata": {
    "tags": []
   },
   "outputs": [
    {
     "name": "stdout",
     "output_type": "stream",
     "text": [
      "<class 'pandas.core.frame.DataFrame'>\n",
      "Index: 216250 entries, 0 to 293982\n",
      "Data columns (total 7 columns):\n",
      " #   Column            Non-Null Count   Dtype         \n",
      "---  ------            --------------   -----         \n",
      " 0   id                216250 non-null  int64         \n",
      " 1   id_order          216250 non-null  int64         \n",
      " 2   product_id        216250 non-null  int64         \n",
      " 3   product_quantity  216250 non-null  int64         \n",
      " 4   sku               216250 non-null  object        \n",
      " 5   unit_price        216250 non-null  object        \n",
      " 6   date              216250 non-null  datetime64[ns]\n",
      "dtypes: datetime64[ns](1), int64(4), object(2)\n",
      "memory usage: 13.2+ MB\n"
     ]
    }
   ],
   "source": [
    "orderlines_df.info()"
   ]
  },
  {
   "cell_type": "code",
   "execution_count": 14,
   "id": "a9c58e42-3e89-484a-96ee-cc3ed82f2212",
   "metadata": {},
   "outputs": [
    {
     "data": {
      "text/html": [
       "<div>\n",
       "<style scoped>\n",
       "    .dataframe tbody tr th:only-of-type {\n",
       "        vertical-align: middle;\n",
       "    }\n",
       "\n",
       "    .dataframe tbody tr th {\n",
       "        vertical-align: top;\n",
       "    }\n",
       "\n",
       "    .dataframe thead th {\n",
       "        text-align: right;\n",
       "    }\n",
       "</style>\n",
       "<table border=\"1\" class=\"dataframe\">\n",
       "  <thead>\n",
       "    <tr style=\"text-align: right;\">\n",
       "      <th></th>\n",
       "      <th>id</th>\n",
       "      <th>id_order</th>\n",
       "      <th>product_id</th>\n",
       "      <th>product_quantity</th>\n",
       "      <th>sku</th>\n",
       "      <th>unit_price</th>\n",
       "      <th>date</th>\n",
       "    </tr>\n",
       "  </thead>\n",
       "  <tbody>\n",
       "    <tr>\n",
       "      <th>53515</th>\n",
       "      <td>1227566</td>\n",
       "      <td>345934</td>\n",
       "      <td>0</td>\n",
       "      <td>1</td>\n",
       "      <td>KIN0153-2</td>\n",
       "      <td>0.0</td>\n",
       "      <td>2017-04-13 13:47:21</td>\n",
       "    </tr>\n",
       "    <tr>\n",
       "      <th>53530</th>\n",
       "      <td>1227590</td>\n",
       "      <td>345957</td>\n",
       "      <td>0</td>\n",
       "      <td>1</td>\n",
       "      <td>WDT0347</td>\n",
       "      <td>0.0</td>\n",
       "      <td>2017-04-13 14:44:05</td>\n",
       "    </tr>\n",
       "    <tr>\n",
       "      <th>57811</th>\n",
       "      <td>1234943</td>\n",
       "      <td>349487</td>\n",
       "      <td>0</td>\n",
       "      <td>2</td>\n",
       "      <td>LIBRO</td>\n",
       "      <td>0.0</td>\n",
       "      <td>2017-04-25 10:19:14</td>\n",
       "    </tr>\n",
       "    <tr>\n",
       "      <th>58425</th>\n",
       "      <td>1236042</td>\n",
       "      <td>349974</td>\n",
       "      <td>0</td>\n",
       "      <td>1</td>\n",
       "      <td>LIBRO</td>\n",
       "      <td>0.0</td>\n",
       "      <td>2017-04-26 13:48:27</td>\n",
       "    </tr>\n",
       "    <tr>\n",
       "      <th>58529</th>\n",
       "      <td>1236215</td>\n",
       "      <td>350062</td>\n",
       "      <td>0</td>\n",
       "      <td>1</td>\n",
       "      <td>LIBRO</td>\n",
       "      <td>0.0</td>\n",
       "      <td>2017-04-26 17:06:32</td>\n",
       "    </tr>\n",
       "    <tr>\n",
       "      <th>...</th>\n",
       "      <td>...</td>\n",
       "      <td>...</td>\n",
       "      <td>...</td>\n",
       "      <td>...</td>\n",
       "      <td>...</td>\n",
       "      <td>...</td>\n",
       "      <td>...</td>\n",
       "    </tr>\n",
       "    <tr>\n",
       "      <th>291880</th>\n",
       "      <td>1646431</td>\n",
       "      <td>525595</td>\n",
       "      <td>0</td>\n",
       "      <td>1</td>\n",
       "      <td>SYN0150</td>\n",
       "      <td>0.0</td>\n",
       "      <td>2018-03-11 20:50:46</td>\n",
       "    </tr>\n",
       "    <tr>\n",
       "      <th>292216</th>\n",
       "      <td>1647014</td>\n",
       "      <td>525883</td>\n",
       "      <td>0</td>\n",
       "      <td>1</td>\n",
       "      <td>APP0699</td>\n",
       "      <td>0.0</td>\n",
       "      <td>2018-03-12 12:26:57</td>\n",
       "    </tr>\n",
       "    <tr>\n",
       "      <th>292388</th>\n",
       "      <td>1647334</td>\n",
       "      <td>526025</td>\n",
       "      <td>0</td>\n",
       "      <td>1</td>\n",
       "      <td>WAC0251</td>\n",
       "      <td>0.0</td>\n",
       "      <td>2018-03-12 16:31:39</td>\n",
       "    </tr>\n",
       "    <tr>\n",
       "      <th>292905</th>\n",
       "      <td>1648288</td>\n",
       "      <td>526430</td>\n",
       "      <td>0</td>\n",
       "      <td>1</td>\n",
       "      <td>OWC0110</td>\n",
       "      <td>0.0</td>\n",
       "      <td>2018-03-13 13:27:05</td>\n",
       "    </tr>\n",
       "    <tr>\n",
       "      <th>292906</th>\n",
       "      <td>1648289</td>\n",
       "      <td>526430</td>\n",
       "      <td>0</td>\n",
       "      <td>1</td>\n",
       "      <td>NTE0013</td>\n",
       "      <td>0.0</td>\n",
       "      <td>2018-03-13 13:27:05</td>\n",
       "    </tr>\n",
       "  </tbody>\n",
       "</table>\n",
       "<p>597 rows × 7 columns</p>\n",
       "</div>"
      ],
      "text/plain": [
       "             id  id_order  product_id  product_quantity        sku unit_price  \\\n",
       "53515   1227566    345934           0                 1  KIN0153-2        0.0   \n",
       "53530   1227590    345957           0                 1    WDT0347        0.0   \n",
       "57811   1234943    349487           0                 2      LIBRO        0.0   \n",
       "58425   1236042    349974           0                 1      LIBRO        0.0   \n",
       "58529   1236215    350062           0                 1      LIBRO        0.0   \n",
       "...         ...       ...         ...               ...        ...        ...   \n",
       "291880  1646431    525595           0                 1    SYN0150        0.0   \n",
       "292216  1647014    525883           0                 1    APP0699        0.0   \n",
       "292388  1647334    526025           0                 1    WAC0251        0.0   \n",
       "292905  1648288    526430           0                 1    OWC0110        0.0   \n",
       "292906  1648289    526430           0                 1    NTE0013        0.0   \n",
       "\n",
       "                      date  \n",
       "53515  2017-04-13 13:47:21  \n",
       "53530  2017-04-13 14:44:05  \n",
       "57811  2017-04-25 10:19:14  \n",
       "58425  2017-04-26 13:48:27  \n",
       "58529  2017-04-26 17:06:32  \n",
       "...                    ...  \n",
       "291880 2018-03-11 20:50:46  \n",
       "292216 2018-03-12 12:26:57  \n",
       "292388 2018-03-12 16:31:39  \n",
       "292905 2018-03-13 13:27:05  \n",
       "292906 2018-03-13 13:27:05  \n",
       "\n",
       "[597 rows x 7 columns]"
      ]
     },
     "execution_count": 14,
     "metadata": {},
     "output_type": "execute_result"
    }
   ],
   "source": [
    "orderlines_df.loc[orderlines_df['unit_price'] == 0]"
   ]
  },
  {
   "cell_type": "code",
   "execution_count": 15,
   "id": "273a39f4-c90d-43b8-94fe-95bdd0798f4f",
   "metadata": {
    "tags": []
   },
   "outputs": [
    {
     "data": {
      "text/html": [
       "<div>\n",
       "<style scoped>\n",
       "    .dataframe tbody tr th:only-of-type {\n",
       "        vertical-align: middle;\n",
       "    }\n",
       "\n",
       "    .dataframe tbody tr th {\n",
       "        vertical-align: top;\n",
       "    }\n",
       "\n",
       "    .dataframe thead th {\n",
       "        text-align: right;\n",
       "    }\n",
       "</style>\n",
       "<table border=\"1\" class=\"dataframe\">\n",
       "  <thead>\n",
       "    <tr style=\"text-align: right;\">\n",
       "      <th></th>\n",
       "      <th>id</th>\n",
       "      <th>id_order</th>\n",
       "      <th>product_id</th>\n",
       "      <th>product_quantity</th>\n",
       "      <th>sku</th>\n",
       "      <th>unit_price</th>\n",
       "      <th>date</th>\n",
       "    </tr>\n",
       "  </thead>\n",
       "  <tbody>\n",
       "    <tr>\n",
       "      <th>77008</th>\n",
       "      <td>1268645</td>\n",
       "      <td>365886</td>\n",
       "      <td>0</td>\n",
       "      <td>1</td>\n",
       "      <td>APP1465</td>\n",
       "      <td>-119.0</td>\n",
       "      <td>2017-06-15 12:48:54</td>\n",
       "    </tr>\n",
       "  </tbody>\n",
       "</table>\n",
       "</div>"
      ],
      "text/plain": [
       "            id  id_order  product_id  product_quantity      sku unit_price  \\\n",
       "77008  1268645    365886           0                 1  APP1465     -119.0   \n",
       "\n",
       "                     date  \n",
       "77008 2017-06-15 12:48:54  "
      ]
     },
     "execution_count": 15,
     "metadata": {},
     "output_type": "execute_result"
    }
   ],
   "source": [
    "orderlines_df.loc[orderlines_df['unit_price'] < 0]"
   ]
  },
  {
   "cell_type": "code",
   "execution_count": 16,
   "id": "20c3d506-8992-4362-9d60-87793f1845b7",
   "metadata": {
    "tags": []
   },
   "outputs": [
    {
     "data": {
      "text/plain": [
       "170213"
      ]
     },
     "execution_count": 16,
     "metadata": {},
     "output_type": "execute_result"
    }
   ],
   "source": [
    "orderlines_df['id_order'].nunique()"
   ]
  },
  {
   "cell_type": "code",
   "execution_count": 17,
   "id": "9abbf120-58b3-4f5f-acab-a75163768125",
   "metadata": {
    "tags": []
   },
   "outputs": [
    {
     "data": {
      "text/plain": [
       "216250"
      ]
     },
     "execution_count": 17,
     "metadata": {},
     "output_type": "execute_result"
    }
   ],
   "source": [
    "orderlines_df['id_order'].count()"
   ]
  },
  {
   "cell_type": "code",
   "execution_count": 18,
   "id": "888f6d8f-8580-4ab1-8caf-22ae6d62d391",
   "metadata": {
    "tags": []
   },
   "outputs": [
    {
     "data": {
      "text/plain": [
       "6798"
      ]
     },
     "execution_count": 18,
     "metadata": {},
     "output_type": "execute_result"
    }
   ],
   "source": [
    "orderlines_df['sku'].nunique()"
   ]
  },
  {
   "cell_type": "code",
   "execution_count": 19,
   "id": "e71c7bbc-b612-4ca4-9250-1d6f50dc55eb",
   "metadata": {
    "tags": []
   },
   "outputs": [
    {
     "data": {
      "text/plain": [
       "999.99"
      ]
     },
     "execution_count": 19,
     "metadata": {},
     "output_type": "execute_result"
    }
   ],
   "source": [
    "orderlines_df['unit_price'].max()"
   ]
  },
  {
   "cell_type": "code",
   "execution_count": 20,
   "id": "f23ca7ad-fbaf-4f07-8dcd-3bb72986c2ef",
   "metadata": {
    "tags": []
   },
   "outputs": [],
   "source": [
    "#Categorizing in price groups\n",
    "bins = [0, 50, 100, 200, 500, 750, 1000, 2500, 5000, 7500, 10000, 12500, 16000]  \n",
    "labels = ['-50', '-100', '-200', '-500', '-750', '-1000', '-2500', '-5000', '-7500', '-10000', '-12500', '-16000'] \n",
    "\n",
    "orderlines_df['price_group'] = pd.cut(orderlines_df['unit_price'], bins=bins, labels=labels, right=False)"
   ]
  },
  {
   "cell_type": "code",
   "execution_count": 21,
   "id": "44196a0a-f07f-4df3-adbd-c03612bdbe6f",
   "metadata": {
    "tags": []
   },
   "outputs": [
    {
     "data": {
      "text/plain": [
       "price_group\n",
       "-50       86682\n",
       "-100      45725\n",
       "-200      32998\n",
       "-500      30971\n",
       "-750       9423\n",
       "-1000     10450\n",
       "-2500         0\n",
       "-5000         0\n",
       "-7500         0\n",
       "-10000        0\n",
       "-12500        0\n",
       "-16000        0\n",
       "Name: sku, dtype: int64"
      ]
     },
     "execution_count": 21,
     "metadata": {},
     "output_type": "execute_result"
    }
   ],
   "source": [
    "orderlines_df.groupby('price_group')['sku'].count()"
   ]
  },
  {
   "cell_type": "code",
   "execution_count": 22,
   "id": "e1c40ae4-6657-4eef-bfc4-23fc83e3a050",
   "metadata": {
    "tags": []
   },
   "outputs": [],
   "source": [
    "#Calculating average price: Revenue/number of products sold - or-\n",
    "#Sum of Unit_Prices/Sum of SKUs"
   ]
  },
  {
   "cell_type": "code",
   "execution_count": 23,
   "id": "e52a2f32-4532-495c-bc1b-ed19199d4f8d",
   "metadata": {
    "tags": []
   },
   "outputs": [
    {
     "data": {
      "text/plain": [
       "35602570"
      ]
     },
     "execution_count": 23,
     "metadata": {},
     "output_type": "execute_result"
    }
   ],
   "source": [
    "round(orderlines_df['unit_price'].sum())"
   ]
  },
  {
   "cell_type": "code",
   "execution_count": 24,
   "id": "ffd69f1b-5f17-41cd-800d-24a3603101a1",
   "metadata": {},
   "outputs": [
    {
     "data": {
      "text/plain": [
       "216250"
      ]
     },
     "execution_count": 24,
     "metadata": {},
     "output_type": "execute_result"
    }
   ],
   "source": [
    "orderlines_df['sku'].count()"
   ]
  },
  {
   "cell_type": "code",
   "execution_count": 25,
   "id": "77eed50d-93fd-43d7-b3e9-55be610edbe7",
   "metadata": {},
   "outputs": [],
   "source": [
    "# 35.602.570 / 216.250 = 165 Euro"
   ]
  },
  {
   "cell_type": "code",
   "execution_count": 26,
   "id": "b83ef48e-2424-45c9-b19f-dee4e60b1032",
   "metadata": {},
   "outputs": [],
   "source": [
    "orderlines_cl = orderlines_df"
   ]
  },
  {
   "cell_type": "code",
   "execution_count": 27,
   "id": "076c0694-f028-408e-9334-0f8440717b31",
   "metadata": {
    "tags": []
   },
   "outputs": [],
   "source": [
    "orderlines_cl.to_csv(\"orderlines_cl.csv\", index=False)"
   ]
  }
 ],
 "metadata": {
  "kernelspec": {
   "display_name": "Python 3 (ipykernel)",
   "language": "python",
   "name": "python3"
  },
  "language_info": {
   "codemirror_mode": {
    "name": "ipython",
    "version": 3
   },
   "file_extension": ".py",
   "mimetype": "text/x-python",
   "name": "python",
   "nbconvert_exporter": "python",
   "pygments_lexer": "ipython3",
   "version": "3.11.5"
  }
 },
 "nbformat": 4,
 "nbformat_minor": 5
}
