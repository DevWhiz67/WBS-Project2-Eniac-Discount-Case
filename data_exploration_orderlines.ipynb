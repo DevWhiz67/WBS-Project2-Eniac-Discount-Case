{
 "cells": [
  {
   "cell_type": "code",
   "execution_count": 1,
   "id": "b59d1aef-1ff7-4b74-acdc-12e63282e0e9",
   "metadata": {},
   "outputs": [],
   "source": [
    "import pandas as pd\n",
    "pd.options.display.max_rows = 100\n",
    "orderlines = pd.read_csv('orderlines.csv')"
   ]
  },
  {
   "cell_type": "code",
   "execution_count": 2,
   "id": "e8563a6a-d213-4847-88a7-60310bb75528",
   "metadata": {},
   "outputs": [],
   "source": [
    "#id – a unique identifier for each row in this file\n",
    "#id_order – corresponds to orders.order_id\n",
    "#product_id – an old identifier for each product, nowadays not in use\n",
    "#product_quantity – how many units of that product were purchased on that order\n",
    "#sku – stock keeping unit: a unique identifier for each product\n",
    "#unit_price – the unitary price (in euros) of each product at the moment of placing that order\n",
    "#date – timestamp for the processing of that product\n"
   ]
  },
  {
   "cell_type": "code",
   "execution_count": 3,
   "id": "7db7f1a9-2489-416f-90fe-3b7c063e0ca5",
   "metadata": {
    "tags": []
   },
   "outputs": [],
   "source": [
    "#There are 204.855 different oders (order_id)\n",
    "#There are 7951 different product (sku)\n",
    "#The highest price is 999.99\n",
    "\n",
    "#product_id is empty\n"
   ]
  },
  {
   "cell_type": "code",
   "execution_count": 4,
   "id": "8a1b7f42-ee39-4d4f-9f0c-11f04bacd18f",
   "metadata": {},
   "outputs": [],
   "source": [
    "#Some product_quantities seem pretty high - 999 (2x), 800, 555 correct?\n",
    "#Unit price and date are objects\n",
    "#Product APP1465 in row with id 1268645 has a price of -119.0"
   ]
  },
  {
   "cell_type": "code",
   "execution_count": 5,
   "id": "ba7cd7af-d57e-4cb7-9549-85409b866330",
   "metadata": {
    "tags": []
   },
   "outputs": [],
   "source": [
    "orderlines['unit_price'] = pd.to_numeric(orderlines['unit_price'], errors='coerce')"
   ]
  },
  {
   "cell_type": "code",
   "execution_count": 6,
   "id": "954a8ba4-f822-4d1e-8a5f-7f2a26fdbb9a",
   "metadata": {
    "tags": []
   },
   "outputs": [
    {
     "data": {
      "text/plain": [
       "77008   -119.0\n",
       "53515      0.0\n",
       "53530      0.0\n",
       "56529      0.0\n",
       "56562      0.0\n",
       "56576      0.0\n",
       "56617      0.0\n",
       "56636      0.0\n",
       "56641      0.0\n",
       "56648      0.0\n",
       "Name: unit_price, dtype: float64"
      ]
     },
     "execution_count": 6,
     "metadata": {},
     "output_type": "execute_result"
    }
   ],
   "source": [
    "orderlines['unit_price'].nsmallest(10)"
   ]
  },
  {
   "cell_type": "code",
   "execution_count": 7,
   "id": "e3ea8215-f8ab-464d-883d-fdb7577e7dca",
   "metadata": {
    "tags": []
   },
   "outputs": [
    {
     "data": {
      "text/plain": [
       "id                              1268645\n",
       "id_order                         365886\n",
       "product_id                            0\n",
       "product_quantity                      1\n",
       "sku                             APP1465\n",
       "unit_price                       -119.0\n",
       "date                2017-06-15 12:48:54\n",
       "Name: 77008, dtype: object"
      ]
     },
     "execution_count": 7,
     "metadata": {},
     "output_type": "execute_result"
    }
   ],
   "source": [
    "orderlines.loc[77008]"
   ]
  },
  {
   "cell_type": "code",
   "execution_count": 8,
   "id": "5bfe0661-e242-4d63-b623-04d5eea78401",
   "metadata": {
    "tags": []
   },
   "outputs": [
    {
     "data": {
      "text/plain": [
       "53860     999\n",
       "68712     999\n",
       "57796     800\n",
       "57306     555\n",
       "40813     201\n",
       "136675    200\n",
       "204637    192\n",
       "246048    164\n",
       "27779     126\n",
       "285492    125\n",
       "Name: product_quantity, dtype: int64"
      ]
     },
     "execution_count": 8,
     "metadata": {},
     "output_type": "execute_result"
    }
   ],
   "source": [
    "orderlines['product_quantity'].nlargest(10)"
   ]
  },
  {
   "cell_type": "code",
   "execution_count": 9,
   "id": "9d4f631c-0ad6-49e0-b19e-981fde62e99c",
   "metadata": {
    "tags": []
   },
   "outputs": [
    {
     "data": {
      "text/plain": [
       "0     1\n",
       "1     1\n",
       "2     1\n",
       "3     1\n",
       "4     1\n",
       "6     1\n",
       "7     1\n",
       "8     1\n",
       "9     1\n",
       "11    1\n",
       "Name: product_quantity, dtype: int64"
      ]
     },
     "execution_count": 9,
     "metadata": {},
     "output_type": "execute_result"
    }
   ],
   "source": [
    "orderlines['product_quantity'].nsmallest(10)"
   ]
  },
  {
   "cell_type": "code",
   "execution_count": 10,
   "id": "b3ca4721-edaa-43e7-b579-9d9cb9784a5d",
   "metadata": {
    "tags": []
   },
   "outputs": [
    {
     "data": {
      "text/plain": [
       "0"
      ]
     },
     "execution_count": 10,
     "metadata": {},
     "output_type": "execute_result"
    }
   ],
   "source": [
    "orderlines.duplicated().sum()"
   ]
  },
  {
   "cell_type": "code",
   "execution_count": 21,
   "id": "860f81f2-6525-4e38-a8f3-7dd295a7a5a6",
   "metadata": {
    "tags": []
   },
   "outputs": [
    {
     "data": {
      "text/html": [
       "<div>\n",
       "<style scoped>\n",
       "    .dataframe tbody tr th:only-of-type {\n",
       "        vertical-align: middle;\n",
       "    }\n",
       "\n",
       "    .dataframe tbody tr th {\n",
       "        vertical-align: top;\n",
       "    }\n",
       "\n",
       "    .dataframe thead th {\n",
       "        text-align: right;\n",
       "    }\n",
       "</style>\n",
       "<table border=\"1\" class=\"dataframe\">\n",
       "  <thead>\n",
       "    <tr style=\"text-align: right;\">\n",
       "      <th></th>\n",
       "      <th>id</th>\n",
       "      <th>id_order</th>\n",
       "      <th>product_id</th>\n",
       "      <th>product_quantity</th>\n",
       "      <th>sku</th>\n",
       "      <th>unit_price</th>\n",
       "      <th>date</th>\n",
       "    </tr>\n",
       "  </thead>\n",
       "  <tbody>\n",
       "    <tr>\n",
       "      <th>3331</th>\n",
       "      <td>1130121</td>\n",
       "      <td>302587</td>\n",
       "      <td>0</td>\n",
       "      <td>1</td>\n",
       "      <td>APP0023</td>\n",
       "      <td>54.0</td>\n",
       "      <td>2017-01-04 16:50:54</td>\n",
       "    </tr>\n",
       "    <tr>\n",
       "      <th>39261</th>\n",
       "      <td>1201950</td>\n",
       "      <td>333762</td>\n",
       "      <td>0</td>\n",
       "      <td>1</td>\n",
       "      <td>APP0023</td>\n",
       "      <td>54.0</td>\n",
       "      <td>2017-03-09 21:55:55</td>\n",
       "    </tr>\n",
       "    <tr>\n",
       "      <th>51615</th>\n",
       "      <td>1224283</td>\n",
       "      <td>344294</td>\n",
       "      <td>0</td>\n",
       "      <td>1</td>\n",
       "      <td>APP1190</td>\n",
       "      <td>54.0</td>\n",
       "      <td>2017-04-07 15:43:43</td>\n",
       "    </tr>\n",
       "    <tr>\n",
       "      <th>74927</th>\n",
       "      <td>1264963</td>\n",
       "      <td>363996</td>\n",
       "      <td>0</td>\n",
       "      <td>1</td>\n",
       "      <td>APP0023</td>\n",
       "      <td>54.0</td>\n",
       "      <td>2017-06-09 18:45:02</td>\n",
       "    </tr>\n",
       "    <tr>\n",
       "      <th>82071</th>\n",
       "      <td>1277426</td>\n",
       "      <td>370205</td>\n",
       "      <td>0</td>\n",
       "      <td>2</td>\n",
       "      <td>APP0023</td>\n",
       "      <td>54.0</td>\n",
       "      <td>2017-06-29 08:30:12</td>\n",
       "    </tr>\n",
       "    <tr>\n",
       "      <th>...</th>\n",
       "      <td>...</td>\n",
       "      <td>...</td>\n",
       "      <td>...</td>\n",
       "      <td>...</td>\n",
       "      <td>...</td>\n",
       "      <td>...</td>\n",
       "      <td>...</td>\n",
       "    </tr>\n",
       "    <tr>\n",
       "      <th>263499</th>\n",
       "      <td>1601309</td>\n",
       "      <td>506300</td>\n",
       "      <td>0</td>\n",
       "      <td>1</td>\n",
       "      <td>APP1190</td>\n",
       "      <td>54.0</td>\n",
       "      <td>2018-02-05 15:29:20</td>\n",
       "    </tr>\n",
       "    <tr>\n",
       "      <th>269677</th>\n",
       "      <td>1611174</td>\n",
       "      <td>510414</td>\n",
       "      <td>0</td>\n",
       "      <td>1</td>\n",
       "      <td>APP1151</td>\n",
       "      <td>54.0</td>\n",
       "      <td>2018-02-12 23:00:47</td>\n",
       "    </tr>\n",
       "    <tr>\n",
       "      <th>277825</th>\n",
       "      <td>1625039</td>\n",
       "      <td>516519</td>\n",
       "      <td>0</td>\n",
       "      <td>1</td>\n",
       "      <td>DLK0103</td>\n",
       "      <td>54.0</td>\n",
       "      <td>2018-02-23 14:38:34</td>\n",
       "    </tr>\n",
       "    <tr>\n",
       "      <th>281271</th>\n",
       "      <td>1630986</td>\n",
       "      <td>519190</td>\n",
       "      <td>0</td>\n",
       "      <td>1</td>\n",
       "      <td>APP1151</td>\n",
       "      <td>54.0</td>\n",
       "      <td>2018-02-28 23:17:40</td>\n",
       "    </tr>\n",
       "    <tr>\n",
       "      <th>282059</th>\n",
       "      <td>1632161</td>\n",
       "      <td>519725</td>\n",
       "      <td>0</td>\n",
       "      <td>1</td>\n",
       "      <td>APP1151</td>\n",
       "      <td>54.0</td>\n",
       "      <td>2018-03-01 23:58:25</td>\n",
       "    </tr>\n",
       "  </tbody>\n",
       "</table>\n",
       "<p>747 rows × 7 columns</p>\n",
       "</div>"
      ],
      "text/plain": [
       "             id  id_order  product_id  product_quantity      sku  unit_price  \\\n",
       "3331    1130121    302587           0                 1  APP0023        54.0   \n",
       "39261   1201950    333762           0                 1  APP0023        54.0   \n",
       "51615   1224283    344294           0                 1  APP1190        54.0   \n",
       "74927   1264963    363996           0                 1  APP0023        54.0   \n",
       "82071   1277426    370205           0                 2  APP0023        54.0   \n",
       "...         ...       ...         ...               ...      ...         ...   \n",
       "263499  1601309    506300           0                 1  APP1190        54.0   \n",
       "269677  1611174    510414           0                 1  APP1151        54.0   \n",
       "277825  1625039    516519           0                 1  DLK0103        54.0   \n",
       "281271  1630986    519190           0                 1  APP1151        54.0   \n",
       "282059  1632161    519725           0                 1  APP1151        54.0   \n",
       "\n",
       "                       date  \n",
       "3331    2017-01-04 16:50:54  \n",
       "39261   2017-03-09 21:55:55  \n",
       "51615   2017-04-07 15:43:43  \n",
       "74927   2017-06-09 18:45:02  \n",
       "82071   2017-06-29 08:30:12  \n",
       "...                     ...  \n",
       "263499  2018-02-05 15:29:20  \n",
       "269677  2018-02-12 23:00:47  \n",
       "277825  2018-02-23 14:38:34  \n",
       "281271  2018-02-28 23:17:40  \n",
       "282059  2018-03-01 23:58:25  \n",
       "\n",
       "[747 rows x 7 columns]"
      ]
     },
     "execution_count": 21,
     "metadata": {},
     "output_type": "execute_result"
    }
   ],
   "source": [
    "orderlines.loc[orderlines['unit_price'] == 54.]"
   ]
  },
  {
   "cell_type": "code",
   "execution_count": 20,
   "id": "ed6c8d62-0e5c-4c2f-ba5e-12c6199c3b55",
   "metadata": {
    "tags": []
   },
   "outputs": [
    {
     "data": {
      "text/plain": [
       "array([55.99, 59.  , 54.  , 56.05, 54.99, 53.99, 51.29, 48.76, 60.49,\n",
       "       49.99, 44.63])"
      ]
     },
     "execution_count": 20,
     "metadata": {},
     "output_type": "execute_result"
    }
   ],
   "source": [
    "orderlines.loc[orderlines['sku'] == 'APP0023']['unit_price'].unique()\n"
   ]
  },
  {
   "cell_type": "code",
   "execution_count": 22,
   "id": "d5bd709f-7ba2-45e4-a01e-50ed7f1d3681",
   "metadata": {
    "tags": []
   },
   "outputs": [
    {
     "data": {
      "text/html": [
       "<div>\n",
       "<style scoped>\n",
       "    .dataframe tbody tr th:only-of-type {\n",
       "        vertical-align: middle;\n",
       "    }\n",
       "\n",
       "    .dataframe tbody tr th {\n",
       "        vertical-align: top;\n",
       "    }\n",
       "\n",
       "    .dataframe thead th {\n",
       "        text-align: right;\n",
       "    }\n",
       "</style>\n",
       "<table border=\"1\" class=\"dataframe\">\n",
       "  <thead>\n",
       "    <tr style=\"text-align: right;\">\n",
       "      <th></th>\n",
       "      <th>id</th>\n",
       "      <th>id_order</th>\n",
       "      <th>product_id</th>\n",
       "      <th>product_quantity</th>\n",
       "      <th>sku</th>\n",
       "      <th>unit_price</th>\n",
       "      <th>date</th>\n",
       "    </tr>\n",
       "  </thead>\n",
       "  <tbody>\n",
       "    <tr>\n",
       "      <th>81</th>\n",
       "      <td>1119255</td>\n",
       "      <td>299610</td>\n",
       "      <td>0</td>\n",
       "      <td>1</td>\n",
       "      <td>APP0023</td>\n",
       "      <td>55.99</td>\n",
       "      <td>2017-01-01 10:52:42</td>\n",
       "    </tr>\n",
       "    <tr>\n",
       "      <th>83</th>\n",
       "      <td>1119257</td>\n",
       "      <td>299610</td>\n",
       "      <td>0</td>\n",
       "      <td>1</td>\n",
       "      <td>APP1214</td>\n",
       "      <td>84.99</td>\n",
       "      <td>2017-01-01 10:53:10</td>\n",
       "    </tr>\n",
       "  </tbody>\n",
       "</table>\n",
       "</div>"
      ],
      "text/plain": [
       "         id  id_order  product_id  product_quantity      sku  unit_price  \\\n",
       "81  1119255    299610           0                 1  APP0023       55.99   \n",
       "83  1119257    299610           0                 1  APP1214       84.99   \n",
       "\n",
       "                   date  \n",
       "81  2017-01-01 10:52:42  \n",
       "83  2017-01-01 10:53:10  "
      ]
     },
     "execution_count": 22,
     "metadata": {},
     "output_type": "execute_result"
    }
   ],
   "source": [
    "orderlines.loc[orderlines['id_order'] == 299610]"
   ]
  },
  {
   "cell_type": "code",
   "execution_count": 19,
   "id": "0c221528-2ca3-4c79-b647-712a8f814972",
   "metadata": {
    "tags": []
   },
   "outputs": [
    {
     "data": {
      "text/html": [
       "<div>\n",
       "<style scoped>\n",
       "    .dataframe tbody tr th:only-of-type {\n",
       "        vertical-align: middle;\n",
       "    }\n",
       "\n",
       "    .dataframe tbody tr th {\n",
       "        vertical-align: top;\n",
       "    }\n",
       "\n",
       "    .dataframe thead th {\n",
       "        text-align: right;\n",
       "    }\n",
       "</style>\n",
       "<table border=\"1\" class=\"dataframe\">\n",
       "  <thead>\n",
       "    <tr style=\"text-align: right;\">\n",
       "      <th></th>\n",
       "      <th>id</th>\n",
       "      <th>id_order</th>\n",
       "      <th>product_id</th>\n",
       "      <th>product_quantity</th>\n",
       "      <th>sku</th>\n",
       "      <th>unit_price</th>\n",
       "      <th>date</th>\n",
       "    </tr>\n",
       "  </thead>\n",
       "  <tbody>\n",
       "    <tr>\n",
       "      <th>81</th>\n",
       "      <td>1119255</td>\n",
       "      <td>299610</td>\n",
       "      <td>0</td>\n",
       "      <td>1</td>\n",
       "      <td>APP0023</td>\n",
       "      <td>55.99</td>\n",
       "      <td>2017-01-01 10:52:42</td>\n",
       "    </tr>\n",
       "    <tr>\n",
       "      <th>756</th>\n",
       "      <td>1120547</td>\n",
       "      <td>300254</td>\n",
       "      <td>0</td>\n",
       "      <td>1</td>\n",
       "      <td>APP0023</td>\n",
       "      <td>55.99</td>\n",
       "      <td>2017-01-02 08:01:14</td>\n",
       "    </tr>\n",
       "    <tr>\n",
       "      <th>1092</th>\n",
       "      <td>1121337</td>\n",
       "      <td>300553</td>\n",
       "      <td>0</td>\n",
       "      <td>1</td>\n",
       "      <td>APP0023</td>\n",
       "      <td>55.99</td>\n",
       "      <td>2017-01-02 13:39:48</td>\n",
       "    </tr>\n",
       "    <tr>\n",
       "      <th>1254</th>\n",
       "      <td>1121650</td>\n",
       "      <td>300702</td>\n",
       "      <td>0</td>\n",
       "      <td>1</td>\n",
       "      <td>APP0023</td>\n",
       "      <td>55.99</td>\n",
       "      <td>2017-01-02 16:27:48</td>\n",
       "    </tr>\n",
       "    <tr>\n",
       "      <th>1268</th>\n",
       "      <td>1121676</td>\n",
       "      <td>300711</td>\n",
       "      <td>0</td>\n",
       "      <td>1</td>\n",
       "      <td>APP0023</td>\n",
       "      <td>55.99</td>\n",
       "      <td>2017-01-02 16:35:08</td>\n",
       "    </tr>\n",
       "    <tr>\n",
       "      <th>...</th>\n",
       "      <td>...</td>\n",
       "      <td>...</td>\n",
       "      <td>...</td>\n",
       "      <td>...</td>\n",
       "      <td>...</td>\n",
       "      <td>...</td>\n",
       "      <td>...</td>\n",
       "    </tr>\n",
       "    <tr>\n",
       "      <th>95009</th>\n",
       "      <td>1300880</td>\n",
       "      <td>381329</td>\n",
       "      <td>0</td>\n",
       "      <td>1</td>\n",
       "      <td>APP0023</td>\n",
       "      <td>59.00</td>\n",
       "      <td>2017-07-24 13:02:34</td>\n",
       "    </tr>\n",
       "    <tr>\n",
       "      <th>95068</th>\n",
       "      <td>1300995</td>\n",
       "      <td>381384</td>\n",
       "      <td>0</td>\n",
       "      <td>1</td>\n",
       "      <td>APP0023</td>\n",
       "      <td>59.00</td>\n",
       "      <td>2017-07-24 14:37:37</td>\n",
       "    </tr>\n",
       "    <tr>\n",
       "      <th>95248</th>\n",
       "      <td>1301319</td>\n",
       "      <td>381535</td>\n",
       "      <td>0</td>\n",
       "      <td>1</td>\n",
       "      <td>APP0023</td>\n",
       "      <td>59.00</td>\n",
       "      <td>2017-07-24 20:12:10</td>\n",
       "    </tr>\n",
       "    <tr>\n",
       "      <th>95451</th>\n",
       "      <td>1301654</td>\n",
       "      <td>381685</td>\n",
       "      <td>0</td>\n",
       "      <td>3</td>\n",
       "      <td>APP0023</td>\n",
       "      <td>59.00</td>\n",
       "      <td>2017-07-25 09:55:01</td>\n",
       "    </tr>\n",
       "    <tr>\n",
       "      <th>112565</th>\n",
       "      <td>1344683</td>\n",
       "      <td>396326</td>\n",
       "      <td>0</td>\n",
       "      <td>1</td>\n",
       "      <td>APP0023</td>\n",
       "      <td>59.00</td>\n",
       "      <td>2017-09-04 12:21:15</td>\n",
       "    </tr>\n",
       "  </tbody>\n",
       "</table>\n",
       "<p>405 rows × 7 columns</p>\n",
       "</div>"
      ],
      "text/plain": [
       "             id  id_order  product_id  product_quantity      sku  unit_price  \\\n",
       "81      1119255    299610           0                 1  APP0023       55.99   \n",
       "756     1120547    300254           0                 1  APP0023       55.99   \n",
       "1092    1121337    300553           0                 1  APP0023       55.99   \n",
       "1254    1121650    300702           0                 1  APP0023       55.99   \n",
       "1268    1121676    300711           0                 1  APP0023       55.99   \n",
       "...         ...       ...         ...               ...      ...         ...   \n",
       "95009   1300880    381329           0                 1  APP0023       59.00   \n",
       "95068   1300995    381384           0                 1  APP0023       59.00   \n",
       "95248   1301319    381535           0                 1  APP0023       59.00   \n",
       "95451   1301654    381685           0                 3  APP0023       59.00   \n",
       "112565  1344683    396326           0                 1  APP0023       59.00   \n",
       "\n",
       "                       date  \n",
       "81      2017-01-01 10:52:42  \n",
       "756     2017-01-02 08:01:14  \n",
       "1092    2017-01-02 13:39:48  \n",
       "1254    2017-01-02 16:27:48  \n",
       "1268    2017-01-02 16:35:08  \n",
       "...                     ...  \n",
       "95009   2017-07-24 13:02:34  \n",
       "95068   2017-07-24 14:37:37  \n",
       "95248   2017-07-24 20:12:10  \n",
       "95451   2017-07-25 09:55:01  \n",
       "112565  2017-09-04 12:21:15  \n",
       "\n",
       "[405 rows x 7 columns]"
      ]
     },
     "execution_count": 19,
     "metadata": {},
     "output_type": "execute_result"
    }
   ],
   "source": [
    "orderlines.loc[orderlines['sku'] == 'APP0023']"
   ]
  },
  {
   "cell_type": "code",
   "execution_count": null,
   "id": "ab701879-e206-4d5e-a3f1-1c6c210e8f44",
   "metadata": {},
   "outputs": [],
   "source": [
    "orderlines"
   ]
  },
  {
   "cell_type": "code",
   "execution_count": null,
   "id": "ad965eb7-6968-4f3f-9fe8-28cce482e292",
   "metadata": {},
   "outputs": [],
   "source": [
    "orderlines.describe()"
   ]
  },
  {
   "cell_type": "code",
   "execution_count": null,
   "id": "64997920-133a-46de-8d72-91fe72e981be",
   "metadata": {
    "tags": []
   },
   "outputs": [],
   "source": [
    "orderlines.info()"
   ]
  },
  {
   "cell_type": "code",
   "execution_count": null,
   "id": "1b90bdcf-abfd-417a-89ae-7d6b30b40d5c",
   "metadata": {
    "tags": []
   },
   "outputs": [],
   "source": [
    "orderlines.isna().sum()"
   ]
  },
  {
   "cell_type": "code",
   "execution_count": null,
   "id": "fff01def-a4f3-4428-acf8-6b555e6e3946",
   "metadata": {},
   "outputs": [],
   "source": []
  }
 ],
 "metadata": {
  "kernelspec": {
   "display_name": "Python 3 (ipykernel)",
   "language": "python",
   "name": "python3"
  },
  "language_info": {
   "codemirror_mode": {
    "name": "ipython",
    "version": 3
   },
   "file_extension": ".py",
   "mimetype": "text/x-python",
   "name": "python",
   "nbconvert_exporter": "python",
   "pygments_lexer": "ipython3",
   "version": "3.11.5"
  }
 },
 "nbformat": 4,
 "nbformat_minor": 5
}
