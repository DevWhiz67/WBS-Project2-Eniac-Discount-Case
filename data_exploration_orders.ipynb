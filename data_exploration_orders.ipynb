{
 "cells": [
  {
   "cell_type": "code",
   "execution_count": 1,
   "id": "bd7a5182-3ed6-4c42-bacb-22ab5658208f",
   "metadata": {
    "tags": []
   },
   "outputs": [],
   "source": [
    "import pandas as pd\n",
    "pd.options.display.max_rows = 100\n",
    "brands = pd.read_csv('brands.csv')\n",
    "orderlines = pd.read_csv('orderlines.csv')\n",
    "orders = pd.read_csv('orders.csv')\n",
    "products = pd.read_csv('products.csv')"
   ]
  },
  {
   "cell_type": "code",
   "execution_count": 2,
   "id": "3ea37747-e1d2-4e77-b621-0ce3bf3bccc3",
   "metadata": {},
   "outputs": [],
   "source": [
    "#order_id – a unique identifier for each order\n",
    "#created_date – a timestamp for when the order was created\n",
    "#total_paid – the total amount paid by the customer for this order, in euros\n",
    "#state \n",
    "#“Shopping basket” – products have been placed in the shopping basket\n",
    "#“Place Order” – the order has been placed, but is awaiting shipment details \n",
    "#“Pending” – the order is awaiting payment confirmation\n",
    "#“Completed” – the order has been placed and paid, and the transaction is completed.\n",
    "#“Cancelled” – the order has been cancelled and the payment returned to the customer.\n"
   ]
  },
  {
   "cell_type": "code",
   "execution_count": null,
   "id": "fd4adc65-bce8-43ec-92af-ee83b8eb1311",
   "metadata": {},
   "outputs": [],
   "source": [
    "#orders are from 2017-01-01 to 2018-03-14\n",
    "#The maximum amount paid was 214.747"
   ]
  },
  {
   "cell_type": "code",
   "execution_count": 3,
   "id": "b2dd442d-7045-4682-8ae1-71fe823f8a54",
   "metadata": {},
   "outputs": [],
   "source": [
    "#total_paid has 5 missing values - can be deleted\n",
    "#created_date should become datetime datatype"
   ]
  },
  {
   "cell_type": "code",
   "execution_count": 4,
   "id": "f39139f8-e92a-423c-8428-8aa0ca1aed58",
   "metadata": {
    "tags": []
   },
   "outputs": [
    {
     "data": {
      "text/html": [
       "<div>\n",
       "<style scoped>\n",
       "    .dataframe tbody tr th:only-of-type {\n",
       "        vertical-align: middle;\n",
       "    }\n",
       "\n",
       "    .dataframe tbody tr th {\n",
       "        vertical-align: top;\n",
       "    }\n",
       "\n",
       "    .dataframe thead th {\n",
       "        text-align: right;\n",
       "    }\n",
       "</style>\n",
       "<table border=\"1\" class=\"dataframe\">\n",
       "  <thead>\n",
       "    <tr style=\"text-align: right;\">\n",
       "      <th></th>\n",
       "      <th>order_id</th>\n",
       "      <th>created_date</th>\n",
       "      <th>total_paid</th>\n",
       "      <th>state</th>\n",
       "    </tr>\n",
       "  </thead>\n",
       "  <tbody>\n",
       "    <tr>\n",
       "      <th>0</th>\n",
       "      <td>241319</td>\n",
       "      <td>2017-01-02 13:35:40</td>\n",
       "      <td>44.99</td>\n",
       "      <td>Cancelled</td>\n",
       "    </tr>\n",
       "    <tr>\n",
       "      <th>1</th>\n",
       "      <td>241423</td>\n",
       "      <td>2017-11-06 13:10:02</td>\n",
       "      <td>136.15</td>\n",
       "      <td>Completed</td>\n",
       "    </tr>\n",
       "    <tr>\n",
       "      <th>2</th>\n",
       "      <td>242832</td>\n",
       "      <td>2017-12-31 17:40:03</td>\n",
       "      <td>15.76</td>\n",
       "      <td>Completed</td>\n",
       "    </tr>\n",
       "    <tr>\n",
       "      <th>3</th>\n",
       "      <td>243330</td>\n",
       "      <td>2017-02-16 10:59:38</td>\n",
       "      <td>84.98</td>\n",
       "      <td>Completed</td>\n",
       "    </tr>\n",
       "    <tr>\n",
       "      <th>4</th>\n",
       "      <td>243784</td>\n",
       "      <td>2017-11-24 13:35:19</td>\n",
       "      <td>157.86</td>\n",
       "      <td>Cancelled</td>\n",
       "    </tr>\n",
       "    <tr>\n",
       "      <th>...</th>\n",
       "      <td>...</td>\n",
       "      <td>...</td>\n",
       "      <td>...</td>\n",
       "      <td>...</td>\n",
       "    </tr>\n",
       "    <tr>\n",
       "      <th>226904</th>\n",
       "      <td>527397</td>\n",
       "      <td>2018-03-14 13:56:38</td>\n",
       "      <td>42.99</td>\n",
       "      <td>Place Order</td>\n",
       "    </tr>\n",
       "    <tr>\n",
       "      <th>226905</th>\n",
       "      <td>527398</td>\n",
       "      <td>2018-03-14 13:57:25</td>\n",
       "      <td>42.99</td>\n",
       "      <td>Shopping Basket</td>\n",
       "    </tr>\n",
       "    <tr>\n",
       "      <th>226906</th>\n",
       "      <td>527399</td>\n",
       "      <td>2018-03-14 13:57:34</td>\n",
       "      <td>141.58</td>\n",
       "      <td>Shopping Basket</td>\n",
       "    </tr>\n",
       "    <tr>\n",
       "      <th>226907</th>\n",
       "      <td>527400</td>\n",
       "      <td>2018-03-14 13:57:41</td>\n",
       "      <td>19.98</td>\n",
       "      <td>Shopping Basket</td>\n",
       "    </tr>\n",
       "    <tr>\n",
       "      <th>226908</th>\n",
       "      <td>527401</td>\n",
       "      <td>2018-03-14 13:58:36</td>\n",
       "      <td>18.98</td>\n",
       "      <td>Place Order</td>\n",
       "    </tr>\n",
       "  </tbody>\n",
       "</table>\n",
       "<p>226909 rows × 4 columns</p>\n",
       "</div>"
      ],
      "text/plain": [
       "        order_id         created_date  total_paid            state\n",
       "0         241319  2017-01-02 13:35:40       44.99        Cancelled\n",
       "1         241423  2017-11-06 13:10:02      136.15        Completed\n",
       "2         242832  2017-12-31 17:40:03       15.76        Completed\n",
       "3         243330  2017-02-16 10:59:38       84.98        Completed\n",
       "4         243784  2017-11-24 13:35:19      157.86        Cancelled\n",
       "...          ...                  ...         ...              ...\n",
       "226904    527397  2018-03-14 13:56:38       42.99      Place Order\n",
       "226905    527398  2018-03-14 13:57:25       42.99  Shopping Basket\n",
       "226906    527399  2018-03-14 13:57:34      141.58  Shopping Basket\n",
       "226907    527400  2018-03-14 13:57:41       19.98  Shopping Basket\n",
       "226908    527401  2018-03-14 13:58:36       18.98      Place Order\n",
       "\n",
       "[226909 rows x 4 columns]"
      ]
     },
     "execution_count": 4,
     "metadata": {},
     "output_type": "execute_result"
    }
   ],
   "source": [
    "orders"
   ]
  },
  {
   "cell_type": "code",
   "execution_count": 26,
   "id": "6332cc96-8276-4577-9d8c-9e715322416e",
   "metadata": {
    "tags": []
   },
   "outputs": [
    {
     "data": {
      "text/html": [
       "<div>\n",
       "<style scoped>\n",
       "    .dataframe tbody tr th:only-of-type {\n",
       "        vertical-align: middle;\n",
       "    }\n",
       "\n",
       "    .dataframe tbody tr th {\n",
       "        vertical-align: top;\n",
       "    }\n",
       "\n",
       "    .dataframe thead th {\n",
       "        text-align: right;\n",
       "    }\n",
       "</style>\n",
       "<table border=\"1\" class=\"dataframe\">\n",
       "  <thead>\n",
       "    <tr style=\"text-align: right;\">\n",
       "      <th></th>\n",
       "      <th>order_id</th>\n",
       "      <th>created_date</th>\n",
       "      <th>total_paid</th>\n",
       "      <th>state</th>\n",
       "    </tr>\n",
       "  </thead>\n",
       "  <tbody>\n",
       "    <tr>\n",
       "      <th>269</th>\n",
       "      <td>299610</td>\n",
       "      <td>2017-01-01 11:00:40</td>\n",
       "      <td>152.97</td>\n",
       "      <td>Completed</td>\n",
       "    </tr>\n",
       "  </tbody>\n",
       "</table>\n",
       "</div>"
      ],
      "text/plain": [
       "     order_id        created_date  total_paid      state\n",
       "269    299610 2017-01-01 11:00:40      152.97  Completed"
      ]
     },
     "execution_count": 26,
     "metadata": {},
     "output_type": "execute_result"
    }
   ],
   "source": [
    "orders.loc[orders['order_id'] == 299610]"
   ]
  },
  {
   "cell_type": "code",
   "execution_count": 5,
   "id": "26ea0aa5-f5c9-4324-b080-41af755821dc",
   "metadata": {
    "tags": []
   },
   "outputs": [
    {
     "name": "stdout",
     "output_type": "stream",
     "text": [
      "<class 'pandas.core.frame.DataFrame'>\n",
      "RangeIndex: 226909 entries, 0 to 226908\n",
      "Data columns (total 4 columns):\n",
      " #   Column        Non-Null Count   Dtype  \n",
      "---  ------        --------------   -----  \n",
      " 0   order_id      226909 non-null  int64  \n",
      " 1   created_date  226909 non-null  object \n",
      " 2   total_paid    226904 non-null  float64\n",
      " 3   state         226909 non-null  object \n",
      "dtypes: float64(1), int64(1), object(2)\n",
      "memory usage: 6.9+ MB\n"
     ]
    }
   ],
   "source": [
    "orders.info()"
   ]
  },
  {
   "cell_type": "code",
   "execution_count": 6,
   "id": "ce26ac4c-6c7a-4077-b8ce-c781f556bc2b",
   "metadata": {
    "tags": []
   },
   "outputs": [
    {
     "data": {
      "text/html": [
       "<div>\n",
       "<style scoped>\n",
       "    .dataframe tbody tr th:only-of-type {\n",
       "        vertical-align: middle;\n",
       "    }\n",
       "\n",
       "    .dataframe tbody tr th {\n",
       "        vertical-align: top;\n",
       "    }\n",
       "\n",
       "    .dataframe thead th {\n",
       "        text-align: right;\n",
       "    }\n",
       "</style>\n",
       "<table border=\"1\" class=\"dataframe\">\n",
       "  <thead>\n",
       "    <tr style=\"text-align: right;\">\n",
       "      <th></th>\n",
       "      <th>order_id</th>\n",
       "      <th>total_paid</th>\n",
       "    </tr>\n",
       "  </thead>\n",
       "  <tbody>\n",
       "    <tr>\n",
       "      <th>count</th>\n",
       "      <td>226909.000000</td>\n",
       "      <td>226904.000000</td>\n",
       "    </tr>\n",
       "    <tr>\n",
       "      <th>mean</th>\n",
       "      <td>413296.482480</td>\n",
       "      <td>569.225818</td>\n",
       "    </tr>\n",
       "    <tr>\n",
       "      <th>std</th>\n",
       "      <td>65919.250331</td>\n",
       "      <td>1761.778002</td>\n",
       "    </tr>\n",
       "    <tr>\n",
       "      <th>min</th>\n",
       "      <td>241319.000000</td>\n",
       "      <td>0.000000</td>\n",
       "    </tr>\n",
       "    <tr>\n",
       "      <th>25%</th>\n",
       "      <td>356263.000000</td>\n",
       "      <td>34.190000</td>\n",
       "    </tr>\n",
       "    <tr>\n",
       "      <th>50%</th>\n",
       "      <td>413040.000000</td>\n",
       "      <td>112.990000</td>\n",
       "    </tr>\n",
       "    <tr>\n",
       "      <th>75%</th>\n",
       "      <td>470553.000000</td>\n",
       "      <td>525.980000</td>\n",
       "    </tr>\n",
       "    <tr>\n",
       "      <th>max</th>\n",
       "      <td>527401.000000</td>\n",
       "      <td>214747.530000</td>\n",
       "    </tr>\n",
       "  </tbody>\n",
       "</table>\n",
       "</div>"
      ],
      "text/plain": [
       "            order_id     total_paid\n",
       "count  226909.000000  226904.000000\n",
       "mean   413296.482480     569.225818\n",
       "std     65919.250331    1761.778002\n",
       "min    241319.000000       0.000000\n",
       "25%    356263.000000      34.190000\n",
       "50%    413040.000000     112.990000\n",
       "75%    470553.000000     525.980000\n",
       "max    527401.000000  214747.530000"
      ]
     },
     "execution_count": 6,
     "metadata": {},
     "output_type": "execute_result"
    }
   ],
   "source": [
    "orders.describe()"
   ]
  },
  {
   "cell_type": "code",
   "execution_count": 7,
   "id": "ccee0ac5-2611-48a1-b104-008994b4721c",
   "metadata": {},
   "outputs": [
    {
     "data": {
      "text/plain": [
       "0"
      ]
     },
     "execution_count": 7,
     "metadata": {},
     "output_type": "execute_result"
    }
   ],
   "source": [
    "orders.duplicated().sum()"
   ]
  },
  {
   "cell_type": "code",
   "execution_count": 8,
   "id": "7fa8a266-7b8b-472b-a3ab-17c70c1a71d3",
   "metadata": {
    "tags": []
   },
   "outputs": [
    {
     "data": {
      "text/plain": [
       "total_paid\n",
       "False    226904\n",
       "True          5\n",
       "Name: count, dtype: int64"
      ]
     },
     "execution_count": 8,
     "metadata": {},
     "output_type": "execute_result"
    }
   ],
   "source": [
    "orders.total_paid.isna().value_counts()"
   ]
  },
  {
   "cell_type": "code",
   "execution_count": 9,
   "id": "f4b52bd5-4e05-4621-9473-786cea2039e3",
   "metadata": {
    "tags": []
   },
   "outputs": [
    {
     "data": {
      "text/plain": [
       "total_paid\n",
       "False    0.999978\n",
       "True     0.000022\n",
       "Name: proportion, dtype: float64"
      ]
     },
     "execution_count": 9,
     "metadata": {},
     "output_type": "execute_result"
    }
   ],
   "source": [
    "orders.total_paid.isna().value_counts(normalize=True)"
   ]
  },
  {
   "cell_type": "code",
   "execution_count": 11,
   "id": "98183eda-171d-4f92-abda-bc33c92a7dac",
   "metadata": {
    "tags": []
   },
   "outputs": [],
   "source": [
    "orders[\"created_date\"] = pd.to_datetime(orders[\"created_date\"])"
   ]
  },
  {
   "cell_type": "code",
   "execution_count": 13,
   "id": "03eada31-5c20-4db5-bb0a-4c61944d69ce",
   "metadata": {
    "tags": []
   },
   "outputs": [
    {
     "data": {
      "text/plain": [
       "Timestamp('2017-01-01 00:07:19')"
      ]
     },
     "execution_count": 13,
     "metadata": {},
     "output_type": "execute_result"
    }
   ],
   "source": [
    "orders['created_date'].min()"
   ]
  },
  {
   "cell_type": "code",
   "execution_count": 14,
   "id": "99d7beb8-dda9-4876-aa7b-e154ce8b0d0b",
   "metadata": {
    "tags": []
   },
   "outputs": [
    {
     "data": {
      "text/plain": [
       "Timestamp('2018-03-14 13:58:36')"
      ]
     },
     "execution_count": 14,
     "metadata": {},
     "output_type": "execute_result"
    }
   ],
   "source": [
    "orders['created_date'].max()"
   ]
  },
  {
   "cell_type": "code",
   "execution_count": 15,
   "id": "1cc39a8b-01ac-45d7-98a8-0cbf79e369d7",
   "metadata": {
    "tags": []
   },
   "outputs": [
    {
     "data": {
      "text/plain": [
       "214747.53"
      ]
     },
     "execution_count": 15,
     "metadata": {},
     "output_type": "execute_result"
    }
   ],
   "source": [
    "orders['total_paid'].max()"
   ]
  },
  {
   "cell_type": "code",
   "execution_count": 16,
   "id": "814bfe1b-db38-4674-be12-b0fa35101258",
   "metadata": {
    "tags": []
   },
   "outputs": [
    {
     "data": {
      "text/plain": [
       "0.0"
      ]
     },
     "execution_count": 16,
     "metadata": {},
     "output_type": "execute_result"
    }
   ],
   "source": [
    "orders['total_paid'].min()"
   ]
  },
  {
   "cell_type": "code",
   "execution_count": 19,
   "id": "7d7c077e-d282-4442-bd3a-8779ced6a0df",
   "metadata": {
    "tags": []
   },
   "outputs": [
    {
     "data": {
      "text/plain": [
       "226909"
      ]
     },
     "execution_count": 19,
     "metadata": {},
     "output_type": "execute_result"
    }
   ],
   "source": [
    "orders['order_id'].nunique()"
   ]
  },
  {
   "cell_type": "code",
   "execution_count": 21,
   "id": "7698b184-ef3c-4cc7-9008-39f08f8ae420",
   "metadata": {
    "tags": []
   },
   "outputs": [
    {
     "data": {
      "text/plain": [
       "state\n",
       "Cancelled            7233\n",
       "Completed           46605\n",
       "Pending             14379\n",
       "Place Order         40883\n",
       "Shopping Basket    117809\n",
       "Name: order_id, dtype: int64"
      ]
     },
     "execution_count": 21,
     "metadata": {},
     "output_type": "execute_result"
    }
   ],
   "source": [
    "orders.groupby('state')['order_id'].count()"
   ]
  },
  {
   "cell_type": "code",
   "execution_count": 23,
   "id": "0654a92b-1495-4994-9771-9dbeb04b0f37",
   "metadata": {
    "tags": []
   },
   "outputs": [
    {
     "data": {
      "text/plain": [
       "state\n",
       "Cancelled            7233\n",
       "Completed           46605\n",
       "Pending             14379\n",
       "Place Order         40883\n",
       "Shopping Basket    117809\n",
       "Name: order_id, dtype: int64"
      ]
     },
     "execution_count": 23,
     "metadata": {},
     "output_type": "execute_result"
    }
   ],
   "source": [
    "orders.groupby('state')['order_id'].nunique()"
   ]
  },
  {
   "cell_type": "code",
   "execution_count": null,
   "id": "578e95a0-cd9c-4c01-8681-ec6c7e685cb9",
   "metadata": {},
   "outputs": [],
   "source": []
  }
 ],
 "metadata": {
  "kernelspec": {
   "display_name": "Python 3 (ipykernel)",
   "language": "python",
   "name": "python3"
  },
  "language_info": {
   "codemirror_mode": {
    "name": "ipython",
    "version": 3
   },
   "file_extension": ".py",
   "mimetype": "text/x-python",
   "name": "python",
   "nbconvert_exporter": "python",
   "pygments_lexer": "ipython3",
   "version": "3.11.5"
  }
 },
 "nbformat": 4,
 "nbformat_minor": 5
}
